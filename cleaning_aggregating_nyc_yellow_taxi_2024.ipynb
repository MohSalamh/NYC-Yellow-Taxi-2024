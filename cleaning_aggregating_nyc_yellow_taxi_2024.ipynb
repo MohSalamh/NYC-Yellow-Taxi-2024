{
 "cells": [
  {
   "cell_type": "markdown",
   "id": "9ecad975-6ac6-4363-8d2c-665267e38b35",
   "metadata": {},
   "source": [
    "<h1> NYC Yellow Taxi Trip Data (2024) | <span style=\"font-size: 75%\"> Cleaning and Aggregation </span> </h1>"
   ]
  },
  {
   "cell_type": "markdown",
   "id": "c4e95a2d-8d6b-4316-84c6-b3d784bdb47c",
   "metadata": {},
   "source": [
    "<h2>Table of Contents</h2>\n",
    "<div class=\"alert alert-block alert-info\" style=\"margin-top: 20px\">\n",
    "    <ul>\n",
    "        <li><a href=\"#1--Importing-Data-and-Required-Libraries\">1- Importing-Data and Required Libraries</a></li>\n",
    "        <li><a href=\"#2--Exploring-the-Dataset\">2- Exploring the Dataset</a></li>\n",
    "        <li><a href=\"#3--Distribution-of-Categorical-Variables\">3- Distribution of Categorical Variables</a></li>\n",
    "        <li><a href=\"#4--Data-Cleaning\">4- Data Cleaning</a></li>\n",
    "        <li><a href=\"#5--Feature-Engineering\">5- Feature Engineering</a></li>\n",
    "        <li><a href=\"#6--Drop-Unnecessary-Columns\">6- Drop Unnecessary Columns</a></li>\n",
    "        <li><a href=\"#7--Handling-Null-Values\">7- Handling Null Values</a></li>\n",
    "        <li><a href=\"#8--Rearrange-Columns\">8- Rearrange Columns</a></li>\n",
    "        <li><a href=\"#9--Merge-with-Taxi-Zone-Lookup-Table\">9- Merge with Taxi Zone Lookup Table</a></li>\n",
    "        <li><a href=\"#10--Aggregating-the-Dataset\">10- Aggregating the Dataset</a></li>\n",
    "        <li><a href=\"#11--Apply-Cleaning-Steps-Across-All-the-Months\">11- Apply Cleaning Steps Across All the Months</a></li>\n",
    "    </ul>\n",
    "</div>\n",
    "<hr>"
   ]
  },
  {
   "cell_type": "markdown",
   "id": "0b241b3c-2581-48b0-82f6-8d86bb07a94e",
   "metadata": {},
   "source": [
    "## __1- Importing Data and Required Libraries__"
   ]
  },
  {
   "cell_type": "markdown",
   "id": "52f9715a-c432-41ba-bc29-413ea28a2fa9",
   "metadata": {},
   "source": [
    "Import Libraries"
   ]
  },
  {
   "cell_type": "code",
   "execution_count": 1,
   "id": "d1c63394-ea2c-4a10-8c22-213e01dba0da",
   "metadata": {},
   "outputs": [],
   "source": [
    "import pandas as pd\n",
    "import numpy as np\n",
    "import matplotlib.pyplot as plt\n",
    "import seaborn as sns\n",
    "\n",
    "# Set option to display all columns\n",
    "pd.set_option('display.max_columns', None)"
   ]
  },
  {
   "cell_type": "code",
   "execution_count": 3,
   "id": "5e207482-dd5a-4132-8a61-5103d0b7bcd7",
   "metadata": {},
   "outputs": [
    {
     "data": {
      "text/html": [
       "<div>\n",
       "<style scoped>\n",
       "    .dataframe tbody tr th:only-of-type {\n",
       "        vertical-align: middle;\n",
       "    }\n",
       "\n",
       "    .dataframe tbody tr th {\n",
       "        vertical-align: top;\n",
       "    }\n",
       "\n",
       "    .dataframe thead th {\n",
       "        text-align: right;\n",
       "    }\n",
       "</style>\n",
       "<table border=\"1\" class=\"dataframe\">\n",
       "  <thead>\n",
       "    <tr style=\"text-align: right;\">\n",
       "      <th></th>\n",
       "      <th>VendorID</th>\n",
       "      <th>tpep_pickup_datetime</th>\n",
       "      <th>tpep_dropoff_datetime</th>\n",
       "      <th>passenger_count</th>\n",
       "      <th>trip_distance</th>\n",
       "      <th>RatecodeID</th>\n",
       "      <th>store_and_fwd_flag</th>\n",
       "      <th>PULocationID</th>\n",
       "      <th>DOLocationID</th>\n",
       "      <th>payment_type</th>\n",
       "      <th>fare_amount</th>\n",
       "      <th>extra</th>\n",
       "      <th>mta_tax</th>\n",
       "      <th>tip_amount</th>\n",
       "      <th>tolls_amount</th>\n",
       "      <th>improvement_surcharge</th>\n",
       "      <th>total_amount</th>\n",
       "      <th>congestion_surcharge</th>\n",
       "      <th>Airport_fee</th>\n",
       "    </tr>\n",
       "  </thead>\n",
       "  <tbody>\n",
       "    <tr>\n",
       "      <th>0</th>\n",
       "      <td>2</td>\n",
       "      <td>2024-01-01 00:57:55</td>\n",
       "      <td>2024-01-01 01:17:43</td>\n",
       "      <td>1.0</td>\n",
       "      <td>1.72</td>\n",
       "      <td>1.0</td>\n",
       "      <td>N</td>\n",
       "      <td>186</td>\n",
       "      <td>79</td>\n",
       "      <td>2</td>\n",
       "      <td>17.7</td>\n",
       "      <td>1.0</td>\n",
       "      <td>0.5</td>\n",
       "      <td>0.00</td>\n",
       "      <td>0.0</td>\n",
       "      <td>1.0</td>\n",
       "      <td>22.70</td>\n",
       "      <td>2.5</td>\n",
       "      <td>0.0</td>\n",
       "    </tr>\n",
       "    <tr>\n",
       "      <th>1</th>\n",
       "      <td>1</td>\n",
       "      <td>2024-01-01 00:03:00</td>\n",
       "      <td>2024-01-01 00:09:36</td>\n",
       "      <td>1.0</td>\n",
       "      <td>1.80</td>\n",
       "      <td>1.0</td>\n",
       "      <td>N</td>\n",
       "      <td>140</td>\n",
       "      <td>236</td>\n",
       "      <td>1</td>\n",
       "      <td>10.0</td>\n",
       "      <td>3.5</td>\n",
       "      <td>0.5</td>\n",
       "      <td>3.75</td>\n",
       "      <td>0.0</td>\n",
       "      <td>1.0</td>\n",
       "      <td>18.75</td>\n",
       "      <td>2.5</td>\n",
       "      <td>0.0</td>\n",
       "    </tr>\n",
       "    <tr>\n",
       "      <th>2</th>\n",
       "      <td>1</td>\n",
       "      <td>2024-01-01 00:17:06</td>\n",
       "      <td>2024-01-01 00:35:01</td>\n",
       "      <td>1.0</td>\n",
       "      <td>4.70</td>\n",
       "      <td>1.0</td>\n",
       "      <td>N</td>\n",
       "      <td>236</td>\n",
       "      <td>79</td>\n",
       "      <td>1</td>\n",
       "      <td>23.3</td>\n",
       "      <td>3.5</td>\n",
       "      <td>0.5</td>\n",
       "      <td>3.00</td>\n",
       "      <td>0.0</td>\n",
       "      <td>1.0</td>\n",
       "      <td>31.30</td>\n",
       "      <td>2.5</td>\n",
       "      <td>0.0</td>\n",
       "    </tr>\n",
       "    <tr>\n",
       "      <th>3</th>\n",
       "      <td>1</td>\n",
       "      <td>2024-01-01 00:36:38</td>\n",
       "      <td>2024-01-01 00:44:56</td>\n",
       "      <td>1.0</td>\n",
       "      <td>1.40</td>\n",
       "      <td>1.0</td>\n",
       "      <td>N</td>\n",
       "      <td>79</td>\n",
       "      <td>211</td>\n",
       "      <td>1</td>\n",
       "      <td>10.0</td>\n",
       "      <td>3.5</td>\n",
       "      <td>0.5</td>\n",
       "      <td>2.00</td>\n",
       "      <td>0.0</td>\n",
       "      <td>1.0</td>\n",
       "      <td>17.00</td>\n",
       "      <td>2.5</td>\n",
       "      <td>0.0</td>\n",
       "    </tr>\n",
       "    <tr>\n",
       "      <th>4</th>\n",
       "      <td>1</td>\n",
       "      <td>2024-01-01 00:46:51</td>\n",
       "      <td>2024-01-01 00:52:57</td>\n",
       "      <td>1.0</td>\n",
       "      <td>0.80</td>\n",
       "      <td>1.0</td>\n",
       "      <td>N</td>\n",
       "      <td>211</td>\n",
       "      <td>148</td>\n",
       "      <td>1</td>\n",
       "      <td>7.9</td>\n",
       "      <td>3.5</td>\n",
       "      <td>0.5</td>\n",
       "      <td>3.20</td>\n",
       "      <td>0.0</td>\n",
       "      <td>1.0</td>\n",
       "      <td>16.10</td>\n",
       "      <td>2.5</td>\n",
       "      <td>0.0</td>\n",
       "    </tr>\n",
       "  </tbody>\n",
       "</table>\n",
       "</div>"
      ],
      "text/plain": [
       "   VendorID tpep_pickup_datetime tpep_dropoff_datetime  passenger_count  \\\n",
       "0         2  2024-01-01 00:57:55   2024-01-01 01:17:43              1.0   \n",
       "1         1  2024-01-01 00:03:00   2024-01-01 00:09:36              1.0   \n",
       "2         1  2024-01-01 00:17:06   2024-01-01 00:35:01              1.0   \n",
       "3         1  2024-01-01 00:36:38   2024-01-01 00:44:56              1.0   \n",
       "4         1  2024-01-01 00:46:51   2024-01-01 00:52:57              1.0   \n",
       "\n",
       "   trip_distance  RatecodeID store_and_fwd_flag  PULocationID  DOLocationID  \\\n",
       "0           1.72         1.0                  N           186            79   \n",
       "1           1.80         1.0                  N           140           236   \n",
       "2           4.70         1.0                  N           236            79   \n",
       "3           1.40         1.0                  N            79           211   \n",
       "4           0.80         1.0                  N           211           148   \n",
       "\n",
       "   payment_type  fare_amount  extra  mta_tax  tip_amount  tolls_amount  \\\n",
       "0             2         17.7    1.0      0.5        0.00           0.0   \n",
       "1             1         10.0    3.5      0.5        3.75           0.0   \n",
       "2             1         23.3    3.5      0.5        3.00           0.0   \n",
       "3             1         10.0    3.5      0.5        2.00           0.0   \n",
       "4             1          7.9    3.5      0.5        3.20           0.0   \n",
       "\n",
       "   improvement_surcharge  total_amount  congestion_surcharge  Airport_fee  \n",
       "0                    1.0         22.70                   2.5          0.0  \n",
       "1                    1.0         18.75                   2.5          0.0  \n",
       "2                    1.0         31.30                   2.5          0.0  \n",
       "3                    1.0         17.00                   2.5          0.0  \n",
       "4                    1.0         16.10                   2.5          0.0  "
      ]
     },
     "execution_count": 3,
     "metadata": {},
     "output_type": "execute_result"
    }
   ],
   "source": [
    "df = pd.read_parquet('nyc_yellow_taxi_dataset_2024.parquet', engine='pyarrow')\n",
    "df.head()"
   ]
  },
  {
   "cell_type": "markdown",
   "id": "0c6d060e-2bf2-4b03-8b45-5a166edba0e8",
   "metadata": {},
   "source": [
    "## __2- Exploring the Dataset__"
   ]
  },
  {
   "cell_type": "markdown",
   "id": "e6a068e9-a9ba-4505-bb80-189c28beb1c6",
   "metadata": {},
   "source": [
    "We check the number of the records and columns."
   ]
  },
  {
   "cell_type": "code",
   "execution_count": 5,
   "id": "14861591-c98f-4ce3-8f0f-242cb4a92783",
   "metadata": {},
   "outputs": [
    {
     "name": "stdout",
     "output_type": "stream",
     "text": [
      "This dataset has 41,169,720 (41.17 million) rows and 19 columns\n"
     ]
    }
   ],
   "source": [
    "print(f'This dataset has {df.shape[0]:,} ({df.shape[0]/1000000:.2f} million) rows and {df.shape[1]} columns')"
   ]
  },
  {
   "cell_type": "markdown",
   "id": "261b9604-a017-49ef-a66d-bb437ba64823",
   "metadata": {},
   "source": [
    "We check the name of the columns."
   ]
  },
  {
   "cell_type": "code",
   "execution_count": 7,
   "id": "64cd268a-4559-4216-9447-a455fe951fe9",
   "metadata": {},
   "outputs": [
    {
     "data": {
      "text/plain": [
       "Index(['VendorID', 'tpep_pickup_datetime', 'tpep_dropoff_datetime',\n",
       "       'passenger_count', 'trip_distance', 'RatecodeID', 'store_and_fwd_flag',\n",
       "       'PULocationID', 'DOLocationID', 'payment_type', 'fare_amount', 'extra',\n",
       "       'mta_tax', 'tip_amount', 'tolls_amount', 'improvement_surcharge',\n",
       "       'total_amount', 'congestion_surcharge', 'Airport_fee'],\n",
       "      dtype='object')"
      ]
     },
     "execution_count": 7,
     "metadata": {},
     "output_type": "execute_result"
    }
   ],
   "source": [
    "# Let's print the column names\n",
    "df.columns"
   ]
  },
  {
   "cell_type": "markdown",
   "id": "e1a44e92-ff67-4c5e-ae97-659d1b655cfd",
   "metadata": {},
   "source": [
    "We check the data types of each column."
   ]
  },
  {
   "cell_type": "code",
   "execution_count": 9,
   "id": "2df567a0-9910-48eb-b332-0aea1fb1040e",
   "metadata": {},
   "outputs": [
    {
     "data": {
      "text/plain": [
       "VendorID                          int32\n",
       "tpep_pickup_datetime     datetime64[us]\n",
       "tpep_dropoff_datetime    datetime64[us]\n",
       "passenger_count                 float64\n",
       "trip_distance                   float64\n",
       "RatecodeID                      float64\n",
       "store_and_fwd_flag               object\n",
       "PULocationID                      int32\n",
       "DOLocationID                      int32\n",
       "payment_type                      int64\n",
       "fare_amount                     float64\n",
       "extra                           float64\n",
       "mta_tax                         float64\n",
       "tip_amount                      float64\n",
       "tolls_amount                    float64\n",
       "improvement_surcharge           float64\n",
       "total_amount                    float64\n",
       "congestion_surcharge            float64\n",
       "Airport_fee                     float64\n",
       "dtype: object"
      ]
     },
     "execution_count": 9,
     "metadata": {},
     "output_type": "execute_result"
    }
   ],
   "source": [
    "# Let's check the data types of the fields in the dataframe\n",
    "df.dtypes"
   ]
  },
  {
   "cell_type": "markdown",
   "id": "fc0e1029-43d6-49c7-9831-9d77a006253f",
   "metadata": {},
   "source": [
    "* Two columns are datetime data types, which provide the __pickup__ and __dropoff__ date and time information.\n",
    "* IDs and encoded fields include __vendors__, __locations__, __rate code__, and __payment type__.\n",
    "* The remaining are numerical data types, which include trip distance in miles and a breakdown of the total fare.\n",
    "\n",
    "Let's retrieve a statistical summary of the dataframe's numeric columns."
   ]
  },
  {
   "cell_type": "code",
   "execution_count": 11,
   "id": "34db137c-7019-4512-938a-2d76136027d5",
   "metadata": {},
   "outputs": [
    {
     "data": {
      "text/html": [
       "<style type=\"text/css\">\n",
       "</style>\n",
       "<table id=\"T_3144e\">\n",
       "  <thead>\n",
       "    <tr>\n",
       "      <th class=\"blank level0\" >&nbsp;</th>\n",
       "      <th id=\"T_3144e_level0_col0\" class=\"col_heading level0 col0\" >trip_distance</th>\n",
       "      <th id=\"T_3144e_level0_col1\" class=\"col_heading level0 col1\" >fare_amount</th>\n",
       "      <th id=\"T_3144e_level0_col2\" class=\"col_heading level0 col2\" >extra</th>\n",
       "      <th id=\"T_3144e_level0_col3\" class=\"col_heading level0 col3\" >mta_tax</th>\n",
       "      <th id=\"T_3144e_level0_col4\" class=\"col_heading level0 col4\" >tip_amount</th>\n",
       "      <th id=\"T_3144e_level0_col5\" class=\"col_heading level0 col5\" >tolls_amount</th>\n",
       "      <th id=\"T_3144e_level0_col6\" class=\"col_heading level0 col6\" >improvement_surcharge</th>\n",
       "      <th id=\"T_3144e_level0_col7\" class=\"col_heading level0 col7\" >congestion_surcharge</th>\n",
       "      <th id=\"T_3144e_level0_col8\" class=\"col_heading level0 col8\" >Airport_fee</th>\n",
       "      <th id=\"T_3144e_level0_col9\" class=\"col_heading level0 col9\" >total_amount</th>\n",
       "    </tr>\n",
       "  </thead>\n",
       "  <tbody>\n",
       "    <tr>\n",
       "      <th id=\"T_3144e_level0_row0\" class=\"row_heading level0 row0\" >count</th>\n",
       "      <td id=\"T_3144e_row0_col0\" class=\"data row0 col0\" >41,169,720.00</td>\n",
       "      <td id=\"T_3144e_row0_col1\" class=\"data row0 col1\" >41,169,720.00</td>\n",
       "      <td id=\"T_3144e_row0_col2\" class=\"data row0 col2\" >41,169,720.00</td>\n",
       "      <td id=\"T_3144e_row0_col3\" class=\"data row0 col3\" >41,169,720.00</td>\n",
       "      <td id=\"T_3144e_row0_col4\" class=\"data row0 col4\" >41,169,720.00</td>\n",
       "      <td id=\"T_3144e_row0_col5\" class=\"data row0 col5\" >41,169,720.00</td>\n",
       "      <td id=\"T_3144e_row0_col6\" class=\"data row0 col6\" >41,169,720.00</td>\n",
       "      <td id=\"T_3144e_row0_col7\" class=\"data row0 col7\" >37,078,488.00</td>\n",
       "      <td id=\"T_3144e_row0_col8\" class=\"data row0 col8\" >37,078,488.00</td>\n",
       "      <td id=\"T_3144e_row0_col9\" class=\"data row0 col9\" >41,169,720.00</td>\n",
       "    </tr>\n",
       "    <tr>\n",
       "      <th id=\"T_3144e_level0_row1\" class=\"row_heading level0 row1\" >mean</th>\n",
       "      <td id=\"T_3144e_row1_col0\" class=\"data row1 col0\" >4.98</td>\n",
       "      <td id=\"T_3144e_row1_col1\" class=\"data row1 col1\" >19.27</td>\n",
       "      <td id=\"T_3144e_row1_col2\" class=\"data row1 col2\" >1.39</td>\n",
       "      <td id=\"T_3144e_row1_col3\" class=\"data row1 col3\" >0.48</td>\n",
       "      <td id=\"T_3144e_row1_col4\" class=\"data row1 col4\" >3.31</td>\n",
       "      <td id=\"T_3144e_row1_col5\" class=\"data row1 col5\" >0.56</td>\n",
       "      <td id=\"T_3144e_row1_col6\" class=\"data row1 col6\" >0.96</td>\n",
       "      <td id=\"T_3144e_row1_col7\" class=\"data row1 col7\" >2.23</td>\n",
       "      <td id=\"T_3144e_row1_col8\" class=\"data row1 col8\" >0.15</td>\n",
       "      <td id=\"T_3144e_row1_col9\" class=\"data row1 col9\" >27.83</td>\n",
       "    </tr>\n",
       "    <tr>\n",
       "      <th id=\"T_3144e_level0_row2\" class=\"row_heading level0 row2\" >std</th>\n",
       "      <td id=\"T_3144e_row2_col0\" class=\"data row2 col0\" >419.23</td>\n",
       "      <td id=\"T_3144e_row2_col1\" class=\"data row2 col1\" >76.72</td>\n",
       "      <td id=\"T_3144e_row2_col2\" class=\"data row2 col2\" >1.82</td>\n",
       "      <td id=\"T_3144e_row2_col3\" class=\"data row2 col3\" >0.13</td>\n",
       "      <td id=\"T_3144e_row2_col4\" class=\"data row2 col4\" >4.09</td>\n",
       "      <td id=\"T_3144e_row2_col5\" class=\"data row2 col5\" >2.24</td>\n",
       "      <td id=\"T_3144e_row2_col6\" class=\"data row2 col6\" >0.26</td>\n",
       "      <td id=\"T_3144e_row2_col7\" class=\"data row2 col7\" >0.87</td>\n",
       "      <td id=\"T_3144e_row2_col8\" class=\"data row2 col8\" >0.50</td>\n",
       "      <td id=\"T_3144e_row2_col9\" class=\"data row2 col9\" >78.05</td>\n",
       "    </tr>\n",
       "    <tr>\n",
       "      <th id=\"T_3144e_level0_row3\" class=\"row_heading level0 row3\" >min</th>\n",
       "      <td id=\"T_3144e_row3_col0\" class=\"data row3 col0\" >0.00</td>\n",
       "      <td id=\"T_3144e_row3_col1\" class=\"data row3 col1\" >-2,261.20</td>\n",
       "      <td id=\"T_3144e_row3_col2\" class=\"data row3 col2\" >-9.25</td>\n",
       "      <td id=\"T_3144e_row3_col3\" class=\"data row3 col3\" >-0.50</td>\n",
       "      <td id=\"T_3144e_row3_col4\" class=\"data row3 col4\" >-300.00</td>\n",
       "      <td id=\"T_3144e_row3_col5\" class=\"data row3 col5\" >-140.63</td>\n",
       "      <td id=\"T_3144e_row3_col6\" class=\"data row3 col6\" >-1.00</td>\n",
       "      <td id=\"T_3144e_row3_col7\" class=\"data row3 col7\" >-2.50</td>\n",
       "      <td id=\"T_3144e_row3_col8\" class=\"data row3 col8\" >-1.75</td>\n",
       "      <td id=\"T_3144e_row3_col9\" class=\"data row3 col9\" >-2,265.45</td>\n",
       "    </tr>\n",
       "    <tr>\n",
       "      <th id=\"T_3144e_level0_row4\" class=\"row_heading level0 row4\" >25%</th>\n",
       "      <td id=\"T_3144e_row4_col0\" class=\"data row4 col0\" >1.01</td>\n",
       "      <td id=\"T_3144e_row4_col1\" class=\"data row4 col1\" >9.30</td>\n",
       "      <td id=\"T_3144e_row4_col2\" class=\"data row4 col2\" >0.00</td>\n",
       "      <td id=\"T_3144e_row4_col3\" class=\"data row4 col3\" >0.50</td>\n",
       "      <td id=\"T_3144e_row4_col4\" class=\"data row4 col4\" >0.00</td>\n",
       "      <td id=\"T_3144e_row4_col5\" class=\"data row4 col5\" >0.00</td>\n",
       "      <td id=\"T_3144e_row4_col6\" class=\"data row4 col6\" >1.00</td>\n",
       "      <td id=\"T_3144e_row4_col7\" class=\"data row4 col7\" >2.50</td>\n",
       "      <td id=\"T_3144e_row4_col8\" class=\"data row4 col8\" >0.00</td>\n",
       "      <td id=\"T_3144e_row4_col9\" class=\"data row4 col9\" >15.75</td>\n",
       "    </tr>\n",
       "    <tr>\n",
       "      <th id=\"T_3144e_level0_row5\" class=\"row_heading level0 row5\" >50%</th>\n",
       "      <td id=\"T_3144e_row5_col0\" class=\"data row5 col0\" >1.76</td>\n",
       "      <td id=\"T_3144e_row5_col1\" class=\"data row5 col1\" >13.50</td>\n",
       "      <td id=\"T_3144e_row5_col2\" class=\"data row5 col2\" >1.00</td>\n",
       "      <td id=\"T_3144e_row5_col3\" class=\"data row5 col3\" >0.50</td>\n",
       "      <td id=\"T_3144e_row5_col4\" class=\"data row5 col4\" >2.60</td>\n",
       "      <td id=\"T_3144e_row5_col5\" class=\"data row5 col5\" >0.00</td>\n",
       "      <td id=\"T_3144e_row5_col6\" class=\"data row5 col6\" >1.00</td>\n",
       "      <td id=\"T_3144e_row5_col7\" class=\"data row5 col7\" >2.50</td>\n",
       "      <td id=\"T_3144e_row5_col8\" class=\"data row5 col8\" >0.00</td>\n",
       "      <td id=\"T_3144e_row5_col9\" class=\"data row5 col9\" >21.00</td>\n",
       "    </tr>\n",
       "    <tr>\n",
       "      <th id=\"T_3144e_level0_row6\" class=\"row_heading level0 row6\" >75%</th>\n",
       "      <td id=\"T_3144e_row6_col0\" class=\"data row6 col0\" >3.36</td>\n",
       "      <td id=\"T_3144e_row6_col1\" class=\"data row6 col1\" >22.60</td>\n",
       "      <td id=\"T_3144e_row6_col2\" class=\"data row6 col2\" >2.50</td>\n",
       "      <td id=\"T_3144e_row6_col3\" class=\"data row6 col3\" >0.50</td>\n",
       "      <td id=\"T_3144e_row6_col4\" class=\"data row6 col4\" >4.25</td>\n",
       "      <td id=\"T_3144e_row6_col5\" class=\"data row6 col5\" >0.00</td>\n",
       "      <td id=\"T_3144e_row6_col6\" class=\"data row6 col6\" >1.00</td>\n",
       "      <td id=\"T_3144e_row6_col7\" class=\"data row6 col7\" >2.50</td>\n",
       "      <td id=\"T_3144e_row6_col8\" class=\"data row6 col8\" >0.00</td>\n",
       "      <td id=\"T_3144e_row6_col9\" class=\"data row6 col9\" >30.60</td>\n",
       "    </tr>\n",
       "    <tr>\n",
       "      <th id=\"T_3144e_level0_row7\" class=\"row_heading level0 row7\" >max</th>\n",
       "      <td id=\"T_3144e_row7_col0\" class=\"data row7 col0\" >398,608.62</td>\n",
       "      <td id=\"T_3144e_row7_col1\" class=\"data row7 col1\" >335,544.44</td>\n",
       "      <td id=\"T_3144e_row7_col2\" class=\"data row7 col2\" >65.99</td>\n",
       "      <td id=\"T_3144e_row7_col3\" class=\"data row7 col3\" >41.30</td>\n",
       "      <td id=\"T_3144e_row7_col4\" class=\"data row7 col4\" >999.99</td>\n",
       "      <td id=\"T_3144e_row7_col5\" class=\"data row7 col5\" >1,702.88</td>\n",
       "      <td id=\"T_3144e_row7_col6\" class=\"data row7 col6\" >2.00</td>\n",
       "      <td id=\"T_3144e_row7_col7\" class=\"data row7 col7\" >2.52</td>\n",
       "      <td id=\"T_3144e_row7_col8\" class=\"data row7 col8\" >1.75</td>\n",
       "      <td id=\"T_3144e_row7_col9\" class=\"data row7 col9\" >335,550.94</td>\n",
       "    </tr>\n",
       "  </tbody>\n",
       "</table>\n"
      ],
      "text/plain": [
       "<pandas.io.formats.style.Styler at 0x239f8591a00>"
      ]
     },
     "execution_count": 11,
     "metadata": {},
     "output_type": "execute_result"
    }
   ],
   "source": [
    "# Let's create a list of numerical columns\n",
    "numerical_cols = ['trip_distance', 'fare_amount', 'extra', 'mta_tax', 'tip_amount', 'tolls_amount', 'improvement_surcharge', 'congestion_surcharge', \n",
    "                'Airport_fee', 'total_amount']\n",
    "\n",
    "# Let's check the stats of these fields\n",
    "df[numerical_cols].describe().style.format(\"{:,.2f}\")"
   ]
  },
  {
   "cell_type": "markdown",
   "id": "88b4f085-4bd9-42d0-9106-da649bd1ca2f",
   "metadata": {},
   "source": [
    "By checking the output, we notice a couple of problems:\n",
    "* The maximum trip distance is about __399K miles__, which is about __642,000 km__, which does not make sense.\n",
    "* The highest fare is about __$336K__, which is quite large for a taxi trip, I suppose.\n",
    "* The maximum of tip_amount and tolls fare are quite extreme, both around __1000 USD__ and exceeding __1000 USD__ for the tolls.\n",
    "* By checking the minimum values, they are all negative except for the __trip distance__, which is not valid.\n",
    "* Many of the numeric columns are potentially positively skewed. This can be seen by comparing the median (50th percentile) and the mean — the latter is greater than the former for many of the columns.\n",
    "\n",
    "We will deal with these later."
   ]
  },
  {
   "cell_type": "markdown",
   "id": "81270c1a-f380-495d-92a1-0cb3ca0d8c71",
   "metadata": {},
   "source": [
    "* This is a large dataset containing more than __40 million records__.\n",
    "* Cleaning it all at once proves to be a memory-intensive and formidable task.\n",
    "* We will explore and perform the cleaning steps on one month, and then generalize the steps performed to the remaining months."
   ]
  },
  {
   "cell_type": "markdown",
   "id": "dd34ae86-c34c-4e07-b48f-47af81da8583",
   "metadata": {},
   "source": [
    "Let's define a dataframe containing __January trips__."
   ]
  },
  {
   "cell_type": "code",
   "execution_count": 13,
   "id": "93e40678-a8c0-4fc8-95e1-a3971b0a5eb9",
   "metadata": {},
   "outputs": [],
   "source": [
    "# define a dataframe containing only the january trips\n",
    "df_jan = df[df['tpep_pickup_datetime'].dt.month == 1].copy()"
   ]
  },
  {
   "cell_type": "code",
   "execution_count": 15,
   "id": "e48056a7-fdc3-4db1-849b-5ef20d49d91c",
   "metadata": {},
   "outputs": [
    {
     "data": {
      "text/plain": [
       "(2964637, 19)"
      ]
     },
     "execution_count": 15,
     "metadata": {},
     "output_type": "execute_result"
    }
   ],
   "source": [
    "total_rows = df_jan.shape[0]\n",
    "df_jan.shape"
   ]
  },
  {
   "cell_type": "markdown",
   "id": "87c13b66-c94a-43b7-8651-2bc54615f964",
   "metadata": {},
   "source": [
    "The __January month__ contains less than __3 million records__, which is a more manageable subset of the original dataset."
   ]
  },
  {
   "cell_type": "markdown",
   "id": "50e97439-a9b8-40b5-af5e-d9c1460136d2",
   "metadata": {},
   "source": [
    "## __3- Distribution of Categorical Variables__"
   ]
  },
  {
   "cell_type": "markdown",
   "id": "78b0f25d-f57a-4473-b978-b7af66823f94",
   "metadata": {},
   "source": [
    "We will check the distribution of categorical variables with a __pie chart function__. <br>\n",
    "We will create the function `generate_pie_chart()`, which takes four inputs: _the field or column_, _titles for sub-charts_, _the plot's main title_, and _category labels_."
   ]
  },
  {
   "cell_type": "code",
   "execution_count": 17,
   "id": "fe067c1e-28ad-428e-8dd5-35c325b96d01",
   "metadata": {},
   "outputs": [],
   "source": [
    "# create a pie chart function\n",
    "def generate_pie_chart(field_cols, titles, title, custom_labels=[]):\n",
    "    # Set up subplots\n",
    "    fig, axs = plt.subplots(2, 2, figsize=(10, 8))\n",
    "    axs = axs.flatten()  # Flatten to easily index\n",
    "\n",
    "\n",
    "    for i in range(len(field_cols)):\n",
    "        # Aggregate data\n",
    "        data = field_cols[i].value_counts()\n",
    "\n",
    "        # Calculate percentages\n",
    "        percentages = 100 * data / data.sum()\n",
    "\n",
    "        if custom_labels:\n",
    "            if custom_labels[i]:\n",
    "                data.index = data.index.map(custom_labels[i])\n",
    "        \n",
    "        if field_cols[i].dtype.name == 'bool':\n",
    "            colors = data.index.map({True:'lightgreen', False:'skyblue'})\n",
    "        else:\n",
    "            colors = ['skyblue', 'lightgreen', 'orange', 'salmon', 'plum', 'gold', 'turquoise']\n",
    "        \n",
    "        # Create labels conditionally\n",
    "        labels = [label if pct > 5 else '' for label, pct in zip(data.index, percentages)]\n",
    "\n",
    "        # Plot\n",
    "        axs[i].pie(\n",
    "            data,\n",
    "            labels=labels,\n",
    "            autopct=lambda pct: f'{pct:.1f}%' if pct > 5 else '',\n",
    "            startangle=90,\n",
    "            colors=colors,\n",
    "            wedgeprops={'edgecolor': 'black'}\n",
    "        )\n",
    "        axs[i].set_title(titles[i])\n",
    "    \n",
    "    # Add main title\n",
    "    plt.suptitle(title, fontsize=12, fontweight='bold')\n",
    "\n",
    "    # Adjust layout\n",
    "    plt.tight_layout(rect=[0, 0, 1, 0.95])  # Leave space for main title\n",
    "    plt.tight_layout()\n",
    "    plt.show()"
   ]
  },
  {
   "cell_type": "markdown",
   "id": "08210afa-cd98-4dbb-8fa5-ff1bff5384ad",
   "metadata": {},
   "source": [
    "We will use the above function `generate_pie_chart()` to check the distribution of __passenger_count__, __RatecodeID__, __store_and_fwd_flag__, and __payment_type__. <br>\n",
    "But first, let's check the unique values in these columns."
   ]
  },
  {
   "cell_type": "code",
   "execution_count": 19,
   "id": "d381f8a6-d45f-444d-85ed-59e5f853d354",
   "metadata": {},
   "outputs": [
    {
     "name": "stdout",
     "output_type": "stream",
     "text": [
      "The unique values in passenger_count are:\n",
      "[ 1.  2.  0.  4.  3.  5.  6.  8.  7.  9. nan]\n",
      "\n",
      "The unique values in RatecodeID are:\n",
      "[ 1.  5.  2.  4. 99.  3.  6. nan]\n",
      "\n",
      "The unique values in store_and_fwd_flag are:\n",
      "['N' 'Y' None]\n",
      "\n",
      "The unique values in payment_type are:\n",
      "[2 1 4 3 0]\n",
      "\n"
     ]
    }
   ],
   "source": [
    "# create a list of a column names\n",
    "col_names = ['passenger_count', 'RatecodeID', 'store_and_fwd_flag', 'payment_type']\n",
    "\n",
    "for col in col_names:\n",
    "    print(f'The unique values in {col} are:')\n",
    "    print(str(df_jan[col].unique())+'\\n')"
   ]
  },
  {
   "cell_type": "code",
   "execution_count": 21,
   "id": "f551d598-3396-4baa-9a51-22076048739b",
   "metadata": {},
   "outputs": [
    {
     "data": {
      "image/png": "[encoded data removed]",
      "text/plain": [
       "<Figure size 1000x800 with 4 Axes>"
      ]
     },
     "metadata": {},
     "output_type": "display_data"
    }
   ],
   "source": [
    "# Let's check the distribution for some of the categorical variables\n",
    "\n",
    "# create a list of columns\n",
    "fields_cols_list = [df_jan['passenger_count'], df_jan['RatecodeID'], df_jan['store_and_fwd_flag'], df_jan['payment_type']]\n",
    "\n",
    "# create a list of titles for sub-charts\n",
    "titles_list = ['Frequency of Passengers', 'Frequency of RatecodeID', 'Frequency of Store and FWD Flag','Frequency of Payment Type']\n",
    "\n",
    "# create dictionary of labels, we will not include all the labels since categories below 5% are not shown in the pie chart\n",
    "pass_map = {1 : 'One Rider', 2: 'Two Riders', 3:'Three Riders'} \n",
    "ratecodeid_map = {1: 'Standard Rate', 2: 'JFK', 3: 'Newark', 4:'Nassau or Westchester'}\n",
    "payment_type_map = {0: 'Flex Fare Trip', 1: 'Credit Card', 2: 'Cash'}\n",
    "\n",
    "# create a list of custom labels\n",
    "labels = [pass_map, ratecodeid_map, None, payment_type_map]\n",
    "\n",
    "title = \"Pie Chart Distributions\"\n",
    "\n",
    "# call the function\n",
    "generate_pie_chart(fields_cols_list, titles_list, title, labels)"
   ]
  },
  {
   "cell_type": "markdown",
   "id": "317fa757-1e64-4646-a500-94e586d4a695",
   "metadata": {},
   "source": [
    "__Interesting insights:__ <br>\n",
    "\n",
    "* Around __77%__ of rides are __solo__, and __two-passenger__ rides account for just about __15%__. Rides with more than two passengers make up about __8%__ of all trips.\n",
    "* __94%__ of the rides are charged using the standard rates.\n",
    "* __99.6%__ of the trip records are transmitted in real time; as such, we can have high confidence in the timestamps.\n",
    "* The store_and_fwd_flag distribution also indicates that New York has reliable and widespread cellular and wireless networks.\n",
    "* __78%__ of all trips are paid by __credit card__. The next in line is __cash payments__, at a rate of about __15%__."
   ]
  },
  {
   "cell_type": "markdown",
   "id": "15f996ba-702f-4f85-b116-9349b5c1950e",
   "metadata": {},
   "source": [
    "Let's now check the distribution of the vendors. "
   ]
  },
  {
   "cell_type": "code",
   "execution_count": 23,
   "id": "77d7e85d-89d1-4b05-94af-a7d67de42ce7",
   "metadata": {},
   "outputs": [
    {
     "name": "stdout",
     "output_type": "stream",
     "text": [
      "The unique values in Vendor ID column is:\n",
      "[2 1 6]\n"
     ]
    }
   ],
   "source": [
    "print(f'The unique values in Vendor ID column is:')\n",
    "print(df_jan['VendorID'].unique())"
   ]
  },
  {
   "cell_type": "code",
   "execution_count": 25,
   "id": "d6b8e7b1-2030-4abc-a81e-8c246ca087cb",
   "metadata": {},
   "outputs": [
    {
     "data": {
      "text/html": [
       "<div>\n",
       "<style scoped>\n",
       "    .dataframe tbody tr th:only-of-type {\n",
       "        vertical-align: middle;\n",
       "    }\n",
       "\n",
       "    .dataframe tbody tr th {\n",
       "        vertical-align: top;\n",
       "    }\n",
       "\n",
       "    .dataframe thead th {\n",
       "        text-align: right;\n",
       "    }\n",
       "</style>\n",
       "<table border=\"1\" class=\"dataframe\">\n",
       "  <thead>\n",
       "    <tr style=\"text-align: right;\">\n",
       "      <th></th>\n",
       "      <th>count</th>\n",
       "      <th>percentage</th>\n",
       "    </tr>\n",
       "    <tr>\n",
       "      <th>VendorID</th>\n",
       "      <th></th>\n",
       "      <th></th>\n",
       "    </tr>\n",
       "  </thead>\n",
       "  <tbody>\n",
       "    <tr>\n",
       "      <th>Curb Mobility, LLC</th>\n",
       "      <td>2,234,645</td>\n",
       "      <td>75.38%</td>\n",
       "    </tr>\n",
       "    <tr>\n",
       "      <th>Creative Mobile Technologies, LLC</th>\n",
       "      <td>729,732</td>\n",
       "      <td>24.61%</td>\n",
       "    </tr>\n",
       "    <tr>\n",
       "      <th>Myle Technologies Inc</th>\n",
       "      <td>260</td>\n",
       "      <td>0.01%</td>\n",
       "    </tr>\n",
       "  </tbody>\n",
       "</table>\n",
       "</div>"
      ],
      "text/plain": [
       "                                       count percentage\n",
       "VendorID                                               \n",
       "Curb Mobility, LLC                 2,234,645     75.38%\n",
       "Creative Mobile Technologies, LLC    729,732     24.61%\n",
       "Myle Technologies Inc                    260      0.01%"
      ]
     },
     "execution_count": 25,
     "metadata": {},
     "output_type": "execute_result"
    }
   ],
   "source": [
    "# creating dictionary labels for vendors id\n",
    "vendorid_dict = {1: 'Creative Mobile Technologies, LLC', \n",
    "                                 2: 'Curb Mobility, LLC',\n",
    "                                 6: 'Myle Technologies Inc',\n",
    "                                 7: 'Helix'}\n",
    "\n",
    "counts = df_jan['VendorID'].value_counts()\n",
    "counts.index = counts.index.map(vendorid_dict)\n",
    "count = counts.to_frame()\n",
    "count['percentage'] = count['count'] / count['count'].sum()\n",
    "count['count'] = count['count'].apply(lambda x: f\"{x:,}\")\n",
    "count['percentage'] = count['percentage'].apply(lambda x: f\"{x:.2%}\")\n",
    "count"
   ]
  },
  {
   "cell_type": "markdown",
   "id": "4bfe8771-37ac-49cf-ad54-afe0f0d2a3cd",
   "metadata": {},
   "source": [
    "The trip records for the month of __January__ come from __three providers__."
   ]
  },
  {
   "cell_type": "markdown",
   "id": "35b5952a-f384-489f-b1a0-e5d376059368",
   "metadata": {},
   "source": [
    "Now, let's delete unneeded resources."
   ]
  },
  {
   "cell_type": "code",
   "execution_count": 27,
   "id": "65e415ab-b28b-46d4-ad8e-8e23df2e648c",
   "metadata": {},
   "outputs": [],
   "source": [
    "del fields_cols_list\n",
    "del counts\n",
    "del count"
   ]
  },
  {
   "cell_type": "markdown",
   "id": "97dd494a-5983-4aeb-bf22-44d5760339c4",
   "metadata": {},
   "source": [
    "## __4- Data Cleaning__"
   ]
  },
  {
   "cell_type": "markdown",
   "id": "d7548256-802e-408c-8aa1-a0731db85ea9",
   "metadata": {},
   "source": [
    "### __A- Passenger Count Field__"
   ]
  },
  {
   "cell_type": "code",
   "execution_count": 29,
   "id": "87531de2-ab0f-43f0-8215-f9a731e48000",
   "metadata": {},
   "outputs": [
    {
     "data": {
      "text/plain": [
       "array([ 1.,  2.,  0.,  4.,  3.,  5.,  6.,  8.,  7.,  9., nan])"
      ]
     },
     "execution_count": 29,
     "metadata": {},
     "output_type": "execute_result"
    }
   ],
   "source": [
    "# let's check the unique values in the passenger column\n",
    "df_jan['passenger_count'].unique()"
   ]
  },
  {
   "cell_type": "markdown",
   "id": "ede9a687-c5c7-4815-9410-a98a87e6d7ff",
   "metadata": {},
   "source": [
    "* The limit for passengers in taxis in New York is __4__ and does not exceed __5 passengers__.\n",
    "* We observe numbers ranging from __9 to 0__, coupled with null values.\n",
    "* We can drop records with an invalid number of passengers, but a better approach that saves valuable information is to label the passenger count for these trips as \"Unknown.\""
   ]
  },
  {
   "cell_type": "code",
   "execution_count": 31,
   "id": "4c3d87a7-14cd-4732-b4ea-d9faed6def36",
   "metadata": {},
   "outputs": [],
   "source": [
    "# create the logic for trips with invalid number of passengers\n",
    "invalid_passengers = (df_jan['passenger_count'] < 1) |(df_jan['passenger_count'] > 5) | (df_jan['passenger_count'].isna())\n",
    "\n",
    "# Let's label this invalid counts as unknown and of course now we have to change the data type of the column to string\n",
    "df_jan['passenger_count'] = df_jan['passenger_count'].astype(str)\n",
    "\n",
    "# Replace them with \"Unknown\"\n",
    "df_jan.loc[invalid_passengers, 'passenger_count'] = \"Unknown\""
   ]
  },
  {
   "cell_type": "code",
   "execution_count": 33,
   "id": "82d9124e-4b13-419a-90de-63a881ecfce4",
   "metadata": {},
   "outputs": [],
   "source": [
    "# deleting unneeded resources\n",
    "del invalid_passengers"
   ]
  },
  {
   "cell_type": "markdown",
   "id": "9ff37d7d-66f8-44b8-805b-bdc0487ff951",
   "metadata": {},
   "source": [
    "### __B- Year of the trip__"
   ]
  },
  {
   "cell_type": "markdown",
   "id": "bf2cc6d8-f2e3-42cc-b5df-4f1a23173df0",
   "metadata": {},
   "source": [
    "* Let's check the unique years in the __(pickup datetime)__ columne to make sure all the trips belong to the year __2024__."
   ]
  },
  {
   "cell_type": "code",
   "execution_count": 35,
   "id": "8d928aca-ed7a-480a-9f0d-497fd6a5c165",
   "metadata": {},
   "outputs": [
    {
     "data": {
      "text/plain": [
       "array([2024, 2009, 2025])"
      ]
     },
     "execution_count": 35,
     "metadata": {},
     "output_type": "execute_result"
    }
   ],
   "source": [
    "df_jan['tpep_pickup_datetime'].dt.year.unique()"
   ]
  },
  {
   "cell_type": "markdown",
   "id": "bab407cb-63a4-48c2-a6a2-eaf6c3c1443d",
   "metadata": {},
   "source": [
    "Okay, let's keep the trips with __pickup timestamp__ belonging to year __2024__."
   ]
  },
  {
   "cell_type": "code",
   "execution_count": 37,
   "id": "97890618-db9e-4124-937c-4ee40aadfc4c",
   "metadata": {},
   "outputs": [
    {
     "name": "stdout",
     "output_type": "stream",
     "text": [
      "Now the dataset has 2,964,617 (2.96 million) rows and 19 columns\n"
     ]
    }
   ],
   "source": [
    "invalid_year = df_jan['tpep_pickup_datetime'].dt.year != 2024\n",
    "df_jan = df_jan[~invalid_year]\n",
    "print(f'Now the dataset has {df_jan.shape[0]:,} ({df_jan.shape[0]/1000000:.2f} million) rows and {df_jan.shape[1]} columns')"
   ]
  },
  {
   "cell_type": "markdown",
   "id": "ad853531-fcd5-4f4c-a4af-6e392dcc1360",
   "metadata": {},
   "source": [
    "### __C- Dropoff Time is earlier than Pickup time__"
   ]
  },
  {
   "cell_type": "markdown",
   "id": "93ae2747-faaf-4f91-8335-d802053772e3",
   "metadata": {},
   "source": [
    "* Let's check where the __dropoff timestamp__ is smaller than __pickup timestamp__.\n",
    "* Taxis are not time-traveling, so the dropoff time must be later or bigger than the pickup time.\n",
    "* Let's check the number of occurrences for such a mistake."
   ]
  },
  {
   "cell_type": "code",
   "execution_count": 39,
   "id": "ba901f70-6675-4890-9a4d-f212a7a87f42",
   "metadata": {},
   "outputs": [
    {
     "name": "stdout",
     "output_type": "stream",
     "text": [
      "This number of enteries with negative or zero trip duration is 870 rows and now they make about 0.03%\n"
     ]
    }
   ],
   "source": [
    "# Let's check for instances where the drop off date time is bigger than the pickup datetime\n",
    "neg_duration = df_jan['tpep_pickup_datetime'] >= df_jan['tpep_dropoff_datetime']\n",
    "df_jan['neg_duration'] = neg_duration\n",
    "num_neg_duration = df_jan[df_jan['neg_duration'] == True].shape[0]\n",
    "per_neg_duration = num_neg_duration/df_jan.shape[0]*100\n",
    "print(f'This number of enteries with negative or zero trip duration is {num_neg_duration:,} rows and now they make about {per_neg_duration:.2f}%')"
   ]
  },
  {
   "cell_type": "markdown",
   "id": "a89f4684-c387-4565-b6a8-8834da92fa06",
   "metadata": {},
   "source": [
    "* The extent of this error is not very common, making only about __0.03%__ of all the trips.\n",
    "* Let's try to check where these __time-travelling__ records are coming from using our pie-generating function.."
   ]
  },
  {
   "cell_type": "code",
   "execution_count": 41,
   "id": "89dc25ea-eb0d-4852-a283-4eae1ca0143e",
   "metadata": {},
   "outputs": [
    {
     "data": {
      "image/png": "[encoded data removed]",
      "text/plain": [
       "<Figure size 1000x800 with 4 Axes>"
      ]
     },
     "metadata": {},
     "output_type": "display_data"
    }
   ],
   "source": [
    "# Let's Check where negative trip durations occur\n",
    "# Create a column that flags rows with any negative fee/fare component\n",
    "fields_cols_list = [df_jan['neg_duration'], \n",
    "                    df_jan[df_jan['VendorID'] == 1]['neg_duration'], \n",
    "                    df_jan[df_jan['VendorID'] == 2]['neg_duration'],\n",
    "                    df_jan[df_jan['VendorID'] == 6]['neg_duration']]\n",
    "\n",
    "titles_list = ['Overall', vendorid_dict[1], vendorid_dict[2], vendorid_dict[6]]\n",
    " \n",
    "title = \"Negative Durations\"\n",
    "\n",
    "generate_pie_chart(fields_cols_list, titles_list, title)"
   ]
  },
  {
   "cell_type": "markdown",
   "id": "1e807958-3248-4206-a61a-2145c33929c7",
   "metadata": {},
   "source": [
    "* The occurrence of this error in the records provided by __Myle Technologies__ is about __20%__.\n",
    "* The __Myle Technologies__ provide very small number of records for the Month of __January__."
   ]
  },
  {
   "cell_type": "code",
   "execution_count": 43,
   "id": "fcf38183-649b-4e20-860a-b4f67c4047e1",
   "metadata": {},
   "outputs": [
    {
     "name": "stdout",
     "output_type": "stream",
     "text": [
      "Now the dataset has 2,963,747 (2.96 million) rows and 20 columns\n"
     ]
    }
   ],
   "source": [
    "# For some of the records, the trip duration would be negative or zero, we will drop these records\n",
    "df_jan = df_jan[df_jan['neg_duration'] == False]\n",
    "print(f'Now the dataset has {df_jan.shape[0]:,} ({df_jan.shape[0]/1000000:.2f} million) rows and {df_jan.shape[1]} columns')"
   ]
  },
  {
   "cell_type": "code",
   "execution_count": 45,
   "id": "2fc027e0-e78d-4c52-9af1-180cbd651f27",
   "metadata": {},
   "outputs": [],
   "source": [
    "# deleting unneeded resources and we will drop the neg_duration column\n",
    "del neg_duration\n",
    "del fields_cols_list\n",
    "df_jan.drop('neg_duration', axis=1, inplace=True)"
   ]
  },
  {
   "cell_type": "markdown",
   "id": "996fa1d1-6e35-4efc-8219-6f7460c2b195",
   "metadata": {},
   "source": [
    "### __D- Checking Individual Fare Components__"
   ]
  },
  {
   "cell_type": "markdown",
   "id": "d84b071e-e3a0-4c85-bd2d-96ca265e1552",
   "metadata": {},
   "source": [
    "#### __Total Amount__"
   ]
  },
  {
   "cell_type": "markdown",
   "id": "3971beb2-f6ce-44ae-9def-5a133921ca29",
   "metadata": {},
   "source": [
    "* To the right of the __total_amount column__, we have __congestion surcharge and airport fee components__, and to the left of it, the remaining fee components.\n",
    "* We would like to check how the __total_amount column__ is calculated.\n",
    "* Let's check if the total amount is calculated using the following formula: _Total Amount_ = __SUM(All fare components)__"
   ]
  },
  {
   "cell_type": "markdown",
   "id": "c7780f78-4897-4340-b9bb-b14787c3246c",
   "metadata": {},
   "source": [
    "We will create a function in order to perform this operation in chunks to avoid overaloading the memeory."
   ]
  },
  {
   "cell_type": "code",
   "execution_count": 47,
   "id": "73ca3373-e15d-4b94-af90-6849609a7283",
   "metadata": {},
   "outputs": [],
   "source": [
    "def check_total_sum_col(df, fees_list):\n",
    "    # this is a large dataset, let's perform our processing in chunks to avoid overloading the memory\n",
    "    # Parameters\n",
    "    chunk_size = 500000\n",
    "    n_rows = df.shape[0]\n",
    "    \n",
    "    # Result holder\n",
    "    total_amount_checks = []\n",
    "    \n",
    "    # Chunked row-wise processing\n",
    "    for start in range(0, n_rows, chunk_size):\n",
    "        end = min(start + chunk_size, n_rows)\n",
    "        chunk = df_jan.iloc[start:end]\n",
    "        \n",
    "        # Fill NaNs, sum, round to 2 digits and then compare\n",
    "        chunk_result = (chunk[fee_comp_cols].fillna(0).sum(axis=1).round(2) == chunk['total_amount'].round(2))\n",
    "        \n",
    "        # Store Boolean results\n",
    "        total_amount_checks.extend(chunk_result.tolist())\n",
    "\n",
    "    return total_amount_checks"
   ]
  },
  {
   "cell_type": "code",
   "execution_count": 49,
   "id": "1351c937-2a91-44b5-a5da-471455956bee",
   "metadata": {},
   "outputs": [],
   "source": [
    "# create a list of all fee components\n",
    "fee_comp_cols = ['fare_amount', 'extra', 'mta_tax', 'tip_amount', 'tolls_amount', 'improvement_surcharge', 'congestion_surcharge', 'Airport_fee']\n",
    "\n",
    "# Create new field that check if the total amount column is the sum of all fee_components\n",
    "df_jan['check_total_sum'] = check_total_sum_col(df_jan, fee_comp_cols)"
   ]
  },
  {
   "cell_type": "markdown",
   "id": "bad7a345-722f-4b6e-8883-289418770f45",
   "metadata": {},
   "source": [
    "Now we check if the different vendors (record providers) calculate the total column similarly."
   ]
  },
  {
   "cell_type": "code",
   "execution_count": 51,
   "id": "5f2447db-58fa-4475-b277-87691c6b2498",
   "metadata": {},
   "outputs": [
    {
     "data": {
      "image/png": "[encoded data removed]",
      "text/plain": [
       "<Figure size 1000x800 with 4 Axes>"
      ]
     },
     "metadata": {},
     "output_type": "display_data"
    }
   ],
   "source": [
    "# list of columns to be passed to the pie function\n",
    "fields_cols_list = [df_jan['check_total_sum'], \n",
    "                    df_jan[df_jan['VendorID'] == 1]['check_total_sum'], \n",
    "                    df_jan[df_jan['VendorID'] == 2]['check_total_sum'],\n",
    "                    df_jan[df_jan['VendorID'] == 6]['check_total_sum']]\n",
    "\n",
    "# list of titles\n",
    "titles_list = ['Overall', vendorid_dict[1], vendorid_dict[2], vendorid_dict[6]]\n",
    "\n",
    "\n",
    "# Plot main title\n",
    "title = \"Total Amount = All Fare Components\"\n",
    "generate_pie_chart(fields_cols_list, titles_list, title)"
   ]
  },
  {
   "cell_type": "markdown",
   "id": "d28b1425-2db3-47c9-a354-4e138983a194",
   "metadata": {},
   "source": [
    "* The calculation of the total_amount column is not consistent. About __75%__ of the trips follow the formula tested.\n",
    "* We will drop the total column and define it later as the sum of all fare components. "
   ]
  },
  {
   "cell_type": "code",
   "execution_count": 53,
   "id": "08444bdb-ae7f-43fa-a95a-15d9daada8f9",
   "metadata": {},
   "outputs": [],
   "source": [
    "df_jan.drop(['total_amount', 'check_total_sum'], axis=1, inplace=True)"
   ]
  },
  {
   "cell_type": "code",
   "execution_count": 55,
   "id": "c4f8f2c5-db43-42de-a98c-5cd5f2d650f5",
   "metadata": {},
   "outputs": [],
   "source": [
    "# deleting unneeded resources \n",
    "del fields_cols_list"
   ]
  },
  {
   "cell_type": "markdown",
   "id": "d7b89f2a-adab-4341-8174-4594b93b0d70",
   "metadata": {},
   "source": [
    "#### __Improvement Surcharge__"
   ]
  },
  {
   "cell_type": "markdown",
   "id": "a99728ec-674a-441d-bac7-5f07549fd740",
   "metadata": {},
   "source": [
    "* The taxi fare include __$1.00 improvement surcharge__ for all trips charged following __standard rate codes__.\n",
    "* Let's check the unique values for this column."
   ]
  },
  {
   "cell_type": "code",
   "execution_count": 57,
   "id": "3dffaccf-5cbb-4596-8b77-732e5b78fb66",
   "metadata": {},
   "outputs": [
    {
     "data": {
      "text/plain": [
       "array([ 1. , -1. ,  0. ,  0.3, -0.3])"
      ]
     },
     "execution_count": 57,
     "metadata": {},
     "output_type": "execute_result"
    }
   ],
   "source": [
    "# it is a fixed one dollar for all trips\n",
    "df_jan['improvement_surcharge'].unique()"
   ]
  },
  {
   "cell_type": "markdown",
   "id": "411b01bf-60ab-4f94-b4a0-e539fe0a6d65",
   "metadata": {},
   "source": [
    "* Well, the range of values seems acceptable except for the __negative__ _\\\\$1.00_ and _\\\\$0.30_.\n",
    "* Let's correct these __negative__ values by making them __positive__."
   ]
  },
  {
   "cell_type": "code",
   "execution_count": 59,
   "id": "69fcd766-a9dc-434a-a7d1-87cbf55f778b",
   "metadata": {},
   "outputs": [],
   "source": [
    "# Let's turn negative numbers into positive numbers\n",
    "df_jan['improvement_surcharge'] = df_jan['improvement_surcharge'].abs()"
   ]
  },
  {
   "cell_type": "markdown",
   "id": "225a8a04-fffb-4058-b1a8-8c7c81c2bbfd",
   "metadata": {},
   "source": [
    "Trips with standard rate codes should have __improvement_surcharge__ equals to one. <br>\n",
    "Now, let's remove trip records where this is not true."
   ]
  },
  {
   "cell_type": "code",
   "execution_count": 61,
   "id": "aac5c544-26fd-4489-a776-c8b8ef5cde90",
   "metadata": {},
   "outputs": [
    {
     "name": "stdout",
     "output_type": "stream",
     "text": [
      "Now the dataset has 2,963,062 (2.96 million) rows and 18 columns\n"
     ]
    }
   ],
   "source": [
    "# we assume standard trips to include Standard rate, JFK, Newark and Nassau or Westchester\n",
    "# Let's define a list standard trips defined by the Rate Code IDs\n",
    "standard_trips_rateCode = [1, 2, 3, 4]\n",
    "invalid_standard_trips = (df_jan['improvement_surcharge'] != 1) & (df_jan['RatecodeID'].isin(standard_trips_rateCode))\n",
    "df_jan = df_jan[~invalid_standard_trips]\n",
    "print(f'Now the dataset has {df_jan.shape[0]:,} ({df_jan.shape[0]/1000000:.2f} million) rows and {df_jan.shape[1]} columns')"
   ]
  },
  {
   "cell_type": "markdown",
   "id": "f3b0bf90-70b7-4d37-a987-6e8bae106a80",
   "metadata": {},
   "source": [
    "For non standard trips, we will leave them as they are."
   ]
  },
  {
   "cell_type": "code",
   "execution_count": 63,
   "id": "2b195e94-3e05-47f7-b644-056b36944bf1",
   "metadata": {},
   "outputs": [],
   "source": [
    "# deleting unneeded resources\n",
    "del invalid_standard_trips"
   ]
  },
  {
   "cell_type": "markdown",
   "id": "1e16bc94-dad2-4021-b818-35c713f507dc",
   "metadata": {},
   "source": [
    "#### __MTA Tax__"
   ]
  },
  {
   "cell_type": "markdown",
   "id": "63b0ab1c-e02e-4b64-a76c-26d888efcb2c",
   "metadata": {},
   "source": [
    "* The taxi fare include __50 cents__ _MTA State surcharge_ for all trips charged following standard rate codes.\n",
    "* Let's check the unique values for this column."
   ]
  },
  {
   "cell_type": "code",
   "execution_count": 65,
   "id": "4dd6cca2-4225-43ca-aa62-a69ef0fc9594",
   "metadata": {},
   "outputs": [
    {
     "data": {
      "text/plain": [
       "array([ 0.5,  0. , -0.5,  3. ])"
      ]
     },
     "execution_count": 65,
     "metadata": {},
     "output_type": "execute_result"
    }
   ],
   "source": [
    "# The MTA tax is 50 cents, but it is only for trips that ends in certain locations\n",
    "# As such it is either paid or not paid, so only two values 0.5 or 0\n",
    "df_jan['mta_tax'].unique()"
   ]
  },
  {
   "cell_type": "markdown",
   "id": "ac8900f3-8104-4752-9e59-692ba4b7c038",
   "metadata": {},
   "source": [
    "* Well the range of values seems acceptable except for the __negative__ _\\\\$0.5_.\n",
    "* Let's correct these negative values by making them __positive__."
   ]
  },
  {
   "cell_type": "markdown",
   "id": "13b15f67-8d74-4e37-81e1-2bd196c738ab",
   "metadata": {},
   "source": [
    "About __34K__ records will be modified."
   ]
  },
  {
   "cell_type": "code",
   "execution_count": 67,
   "id": "fe416526-ea90-4d57-8c17-f94f9e77dec9",
   "metadata": {},
   "outputs": [],
   "source": [
    "# Let's correct these values\n",
    "df_jan['mta_tax'] = df_jan['mta_tax'].abs()"
   ]
  },
  {
   "cell_type": "markdown",
   "id": "680bc557-ef9c-4cfd-b2ed-2d7401d3e9ca",
   "metadata": {},
   "source": [
    "Trips with standard rate codes should have __MTA tax__ equals to _50 cents_. <br>\n",
    "Now, let's remove trip records where this is not true."
   ]
  },
  {
   "cell_type": "code",
   "execution_count": 69,
   "id": "60cf7088-e126-4727-a1dd-c4ee30df5dc2",
   "metadata": {},
   "outputs": [
    {
     "name": "stdout",
     "output_type": "stream",
     "text": [
      "Now the dataset has 2,951,793 (2.95 million) rows and 18 columns\n"
     ]
    }
   ],
   "source": [
    "invalid_mta_tax = (df_jan['mta_tax'] != 0.5) & (df_jan['RatecodeID'].isin(standard_trips_rateCode))\n",
    "num_invalid_mta_tax = df_jan[invalid_mta_tax].shape[0]\n",
    "df_jan = df_jan[~invalid_mta_tax]\n",
    "print(f'Now the dataset has {df_jan.shape[0]:,} ({df_jan.shape[0]/1000000:.2f} million) rows and {df_jan.shape[1]} columns')"
   ]
  },
  {
   "cell_type": "markdown",
   "id": "e1f8f20c-6d8d-418c-8250-38ad0cedb18e",
   "metadata": {},
   "source": [
    "For non standard rate code trips, we will not modify the __MTA Tax__."
   ]
  },
  {
   "cell_type": "code",
   "execution_count": 71,
   "id": "af9e9cba-21ea-4a44-aa7b-5a737e5ec179",
   "metadata": {},
   "outputs": [],
   "source": [
    "# deleting unneeded resources\n",
    "del invalid_mta_tax"
   ]
  },
  {
   "cell_type": "markdown",
   "id": "c996e381-e265-4791-b0e2-45ac6a53a3a8",
   "metadata": {},
   "source": [
    "#### __Congestion Surcharges__"
   ]
  },
  {
   "cell_type": "code",
   "execution_count": 73,
   "id": "2dd08501-18cb-4560-9649-43f45b106c5c",
   "metadata": {},
   "outputs": [
    {
     "name": "stdout",
     "output_type": "stream",
     "text": [
      "The unique values in the congestion surcharge column is [ 2.5   0.   -2.5   0.75 -0.75   nan].\n"
     ]
    }
   ],
   "source": [
    "# Let's check the unique values in the congestion surcharge column\n",
    "print(f'The unique values in the congestion surcharge column is {df_jan['congestion_surcharge'].unique()}.')"
   ]
  },
  {
   "cell_type": "markdown",
   "id": "e1781028-3759-4719-87c0-9d329ccb5f0b",
   "metadata": {},
   "source": [
    "* The values are reasonable and are in accordance with the charges applied to Taxies, __\\\\$2.5__ dollar rush hour surcharge and __75 cents__ for all trips that begin, end or pass through __Manhattan south of 96th Street__. <br>\n",
    "* We have negative Value of negative __\\\\$2.5__ and __75__ cents, we will correct these values and make them positive. <br>\n",
    "* We have __null values__ in the congestion_surcharge column, we will handle missing values later."
   ]
  },
  {
   "cell_type": "code",
   "execution_count": 75,
   "id": "f5de56d9-bfcd-4f64-9aa1-2cf60f6d2c18",
   "metadata": {},
   "outputs": [],
   "source": [
    "# Let's correct these values\n",
    "df_jan['congestion_surcharge'] = df_jan['congestion_surcharge'].abs()"
   ]
  },
  {
   "cell_type": "markdown",
   "id": "a11331e1-ce0d-463b-a86d-b96dc8452946",
   "metadata": {},
   "source": [
    "Let's check the unique values again to make sure that the __negative__ __$2.5__ values have been removed."
   ]
  },
  {
   "cell_type": "code",
   "execution_count": 77,
   "id": "65346d87-a169-4e40-8a93-aa808e2eb67a",
   "metadata": {},
   "outputs": [
    {
     "name": "stdout",
     "output_type": "stream",
     "text": [
      "The unique values in the congestion surcharge column is [2.5  0.   0.75  nan].\n"
     ]
    }
   ],
   "source": [
    "print(f'The unique values in the congestion surcharge column is {df_jan['congestion_surcharge'].unique()}.')"
   ]
  },
  {
   "cell_type": "markdown",
   "id": "097d412f-de87-4fa0-947b-1ffd23a6b2f9",
   "metadata": {},
   "source": [
    "#### __Airport Fees__"
   ]
  },
  {
   "cell_type": "code",
   "execution_count": 79,
   "id": "e400f418-5be2-4aae-9e8a-109b590e2080",
   "metadata": {},
   "outputs": [
    {
     "data": {
      "text/plain": [
       "array([ 0.  ,  1.75, -1.75,   nan])"
      ]
     },
     "execution_count": 79,
     "metadata": {},
     "output_type": "execute_result"
    }
   ],
   "source": [
    "df_jan['Airport_fee'].unique()"
   ]
  },
  {
   "cell_type": "markdown",
   "id": "70558559-0c41-4248-8f81-1ebb072706d1",
   "metadata": {},
   "source": [
    "* The values are within reasonable range, but we have a negative __-1.75 dollar__. \n",
    "* The airport pickup fee is __\\\\$1.75__ and hence then __negative 1.75__ is most likely an error.\n",
    "* We will transform the negative values to positive values."
   ]
  },
  {
   "cell_type": "code",
   "execution_count": 81,
   "id": "0c966734-9428-4c92-84e3-5bcacdce5e76",
   "metadata": {},
   "outputs": [
    {
     "data": {
      "text/plain": [
       "array([0.  , 1.75,  nan])"
      ]
     },
     "execution_count": 81,
     "metadata": {},
     "output_type": "execute_result"
    }
   ],
   "source": [
    "# Let's correct these values\n",
    "df_jan['Airport_fee'] = df_jan['Airport_fee'].abs()\n",
    "\n",
    "# Let's check the unique values again to make sure no negative values are present.\n",
    "df_jan['Airport_fee'].unique()"
   ]
  },
  {
   "cell_type": "markdown",
   "id": "8d50f683-33c7-4948-bb3e-9e86733cc472",
   "metadata": {},
   "source": [
    "#### __Negative Fare Values__"
   ]
  },
  {
   "cell_type": "markdown",
   "id": "a0008840-d93f-4ce4-8007-8164c6061306",
   "metadata": {},
   "source": [
    "* Let's check if any remaining negative values are present in fare components fields. \n",
    "* We will remove any taxi trips with negative fare values."
   ]
  },
  {
   "cell_type": "code",
   "execution_count": 83,
   "id": "d472c434-bfdf-4d5e-8862-08cf1519580d",
   "metadata": {},
   "outputs": [
    {
     "name": "stdout",
     "output_type": "stream",
     "text": [
      "Now the dataset has 2,914,756 (2.91 million) rows and 18 columns\n"
     ]
    }
   ],
   "source": [
    "# create a list that contain all the fare fields\n",
    "fee_comp_cols = ['fare_amount', 'extra', 'mta_tax', 'tip_amount', 'tolls_amount', 'improvement_surcharge', 'congestion_surcharge', \n",
    "                'Airport_fee']\n",
    "# Let us check the number of occurrences of negative values\n",
    "negative_fare = (df_jan[fee_comp_cols] < 0).any(axis=1)\n",
    "\n",
    "# we will filter out rows with negative fare value\n",
    "df_jan = df_jan[~negative_fare]\n",
    "print(f'Now the dataset has {df_jan.shape[0]:,} ({df_jan.shape[0]/1000000:.2f} million) rows and {df_jan.shape[1]} columns')"
   ]
  },
  {
   "cell_type": "code",
   "execution_count": 85,
   "id": "b79c2385-f360-4e25-abe9-f05581435921",
   "metadata": {},
   "outputs": [],
   "source": [
    "# deleting unneeded resources\n",
    "del negative_fare"
   ]
  },
  {
   "cell_type": "markdown",
   "id": "ee313108-d03f-4d7e-9c49-6f38f91737e5",
   "metadata": {},
   "source": [
    "#### __Tolls Amount__"
   ]
  },
  {
   "cell_type": "markdown",
   "id": "dc9bada1-3c4f-40da-bcf1-8c6c523c3468",
   "metadata": {},
   "source": [
    "* The toll rates in New york can range anywhere from __\\\\$3__ to __\\\\$12__. \n",
    "* We can assume that per trip, the number of tolls crossed is anywhere between __0 to 3 tolls__.\n",
    "* Using the information above, we can assume that the maximum possible tolls charges per trip is __\\\\$36__. \n",
    "* Let's check the distribution of the toll charges."
   ]
  },
  {
   "cell_type": "code",
   "execution_count": 87,
   "id": "c3045f63-ff50-4676-970e-f30bc086c821",
   "metadata": {},
   "outputs": [
    {
     "data": {
      "image/png": "[encoded data removed]",
      "text/plain": [
       "<Figure size 600x400 with 1 Axes>"
      ]
     },
     "metadata": {},
     "output_type": "display_data"
    }
   ],
   "source": [
    "# Let's now check the distribution of the duration minutes\n",
    "plt.figure(figsize=(6, 4))\n",
    "plt.hist(df_jan[df_jan['tolls_amount'] > 0]['tolls_amount'], bins=50, color='skyblue', edgecolor='black')\n",
    "plt.axvline(x=df_jan['tolls_amount'].quantile(0.999), color='red', linestyle='--', linewidth=2)\n",
    "plt.title('Toll Charges Histogram (Excluding Zero Tolls)')\n",
    "plt.xlim(0, 50)\n",
    "plt.show()"
   ]
  },
  {
   "cell_type": "markdown",
   "id": "db6b671d-f705-4e38-93ff-6fd6ac0940b2",
   "metadata": {},
   "source": [
    "* The red dashed vertical line represents __0.999__ quantile which is at about __\\\\$14__.\n",
    "* It can be seen that the majority of toll charges are conecentrated at roughly __\\\\$7.5__.\n",
    "* The maximum possible toll fare for three tolls at a maximum rate of __\\\\$12/toll__ is __\\\\$36__.\n",
    "* To add safe margin, we will discard any toll charges greater than _1.5 times_ __\\\\$36__ which is about __\\\\$54__."
   ]
  },
  {
   "cell_type": "code",
   "execution_count": 89,
   "id": "ebe74fb5-9e22-4c2e-8eb6-4bfb72e775a1",
   "metadata": {},
   "outputs": [
    {
     "name": "stdout",
     "output_type": "stream",
     "text": [
      "Now the dataset has 2,914,717 (2.91 million) rows and 18 columns\n"
     ]
    }
   ],
   "source": [
    "# Let's remove any trips with a toll charges greater than 23 dollatr\n",
    "df_jan = df_jan[df_jan['tolls_amount'] <= 54]\n",
    "print(f'Now the dataset has {df_jan.shape[0]:,} ({df_jan.shape[0]/1000000:.2f} million) rows and {df_jan.shape[1]} columns')"
   ]
  },
  {
   "cell_type": "markdown",
   "id": "738b7871-4c13-4a4a-b40d-a758afc2a28c",
   "metadata": {},
   "source": [
    "#### __Tip Amount__"
   ]
  },
  {
   "cell_type": "markdown",
   "id": "5caaede6-59b5-4188-8ca0-381b555715a6",
   "metadata": {},
   "source": [
    "Tips are only recorded for credit card payments __(payment_type = 1).__ <br>\n",
    "Let's check if tips are recorded for other mode of payments."
   ]
  },
  {
   "cell_type": "code",
   "execution_count": 91,
   "id": "6e58d344-c627-4e23-ac49-f74cd1703e33",
   "metadata": {},
   "outputs": [],
   "source": [
    "# Let's set these tips when the payment mode is not credit card to zero\n",
    "df_jan.loc[df_jan['payment_type'] != 1, 'tip_amount'] = 0"
   ]
  },
  {
   "cell_type": "code",
   "execution_count": 93,
   "id": "939121d0-4f29-4ca1-b7c1-16687a5f8723",
   "metadata": {},
   "outputs": [
    {
     "data": {
      "text/plain": [
       "(0.0, 428.0)"
      ]
     },
     "execution_count": 93,
     "metadata": {},
     "output_type": "execute_result"
    }
   ],
   "source": [
    "# Let's check the maximum and minmum tip paid\n",
    "df_jan['tip_amount'].min(), df_jan['tip_amount'].max()"
   ]
  },
  {
   "cell_type": "markdown",
   "id": "7b411072-020d-4372-8e09-7b3c67317755",
   "metadata": {},
   "source": [
    "* The maximum paid tip is __\\\\$428__ which is quite large. \n",
    "* It is quite diffcult to determine if a tip of __\\\\$428__ is real or entry error. \n",
    "* Then, in order to check the tips paid by riders, let's check the distribution. "
   ]
  },
  {
   "cell_type": "code",
   "execution_count": 95,
   "id": "6802d6fb-0da6-479e-83f3-5b8540ea3a6f",
   "metadata": {},
   "outputs": [
    {
     "data": {
      "image/png": "[encoded data removed]",
      "text/plain": [
       "<Figure size 600x400 with 1 Axes>"
      ]
     },
     "metadata": {},
     "output_type": "display_data"
    }
   ],
   "source": [
    "# Let's now check the distribution of the fare amount\n",
    "plt.figure(figsize=(6, 4))\n",
    "plt.hist(df_jan[df_jan['tip_amount'] > 0]['tip_amount'], bins=50, color='skyblue', edgecolor='black')\n",
    "plt.axvline(x=df_jan['tip_amount'].quantile(0.999), color='red', linestyle='--', linewidth=2)\n",
    "plt.title('Tip Histogram (Excluding Zero Tips)')\n",
    "plt.xlim(0,100)\n",
    "plt.show()"
   ]
  },
  {
   "cell_type": "markdown",
   "id": "070c2032-4273-4ec6-9812-99c7b4337991",
   "metadata": {},
   "source": [
    "* As before, the vertical red dashed line represents the __0.999__ quantile or the __99.9%__ percentile. \n",
    "* The __99.9__ percentile is roughly about __\\\\$25__. \n",
    "* Well, some customers might be just generous.\n",
    "* Anyhow, we will choose to keep tips as long as they are not __120%__ greater than the fare.\n",
    "* The choice is arbitrary in order not to remove legitimate, yet rare trips.\n",
    "* Of course, for modelling purposes, the tip cap should probably be lower. "
   ]
  },
  {
   "cell_type": "code",
   "execution_count": 97,
   "id": "54772aad-4a1b-490f-98f4-e2d9a063384b",
   "metadata": {},
   "outputs": [
    {
     "name": "stdout",
     "output_type": "stream",
     "text": [
      "Now the dataset has 2,911,853 (2.91 million) rows and 18 columns\n"
     ]
    }
   ],
   "source": [
    "# Let's filter out these records\n",
    "df_jan = df_jan[df_jan['tip_amount'] <= 1.2*df_jan['fare_amount']]\n",
    "print(f'Now the dataset has {df_jan.shape[0]:,} ({df_jan.shape[0]/1000000:.2f} million) rows and {df_jan.shape[1]} columns')"
   ]
  },
  {
   "cell_type": "markdown",
   "id": "16be4943-f41b-4df2-a6a3-d06ee31fd7b3",
   "metadata": {},
   "source": [
    "#### __Fare Amount__"
   ]
  },
  {
   "cell_type": "markdown",
   "id": "70baba46-3185-4f03-b7ce-4de77cb750c7",
   "metadata": {},
   "source": [
    "* Standard fare has initial charge of __\\\\$3.00__.\n",
    "* Let's remove trip records with fares lower than __\\\\$3.00__."
   ]
  },
  {
   "cell_type": "code",
   "execution_count": 99,
   "id": "8f9b3d9b-d85d-41ee-9311-e2a7f2f54b4b",
   "metadata": {},
   "outputs": [
    {
     "name": "stdout",
     "output_type": "stream",
     "text": [
      "Now the dataset has 2,909,808 (2.91 million) rows and 18 columns\n"
     ]
    }
   ],
   "source": [
    "# Let's remove any trips with a fare less than three dollatr\n",
    "df_jan = df_jan[df_jan['fare_amount'] >= 3]\n",
    "print(f'Now the dataset has {df_jan.shape[0]:,} ({df_jan.shape[0]/1000000:.2f} million) rows and {df_jan.shape[1]} columns')"
   ]
  },
  {
   "cell_type": "markdown",
   "id": "fa842098-bee4-4644-81f7-ae0dfcc8cc0d",
   "metadata": {},
   "source": [
    "## __5- Feature Engineering__"
   ]
  },
  {
   "cell_type": "markdown",
   "id": "df1dbd1f-a92b-4866-9c4e-2b740f2bef8f",
   "metadata": {},
   "source": [
    "* We well calculate the trip duration in minutes and the total cost of the taxi trip.\n",
    "* We will extract the day, the hour and the month of the trip.\n",
    "* Let's perform these operation in chuncks to avoid overloading the memory.\n",
    "* Let's define a function to do that."
   ]
  },
  {
   "cell_type": "code",
   "execution_count": 101,
   "id": "82489788-4c4b-4e6f-9217-076d9e31af51",
   "metadata": {},
   "outputs": [],
   "source": [
    "def create_new_features(df, fee_columns):\n",
    "    # Parameters\n",
    "    chunk_size = 500000\n",
    "    n_rows = df.shape[0]\n",
    "    \n",
    "    # Result holders\n",
    "    hour_col = []\n",
    "    day_col = []\n",
    "    duration_min_values = []\n",
    "    total_amount_values = []\n",
    "    \n",
    "    # Chunked row-wise processing\n",
    "    for start in range(0, n_rows, chunk_size):\n",
    "        end = min(start + chunk_size, n_rows)\n",
    "        chunk = df.iloc[start:end]\n",
    "        \n",
    "        # Perform the Calculations\n",
    "        hour_results = chunk['tpep_pickup_datetime'].dt.hour\n",
    "        day_results = chunk['tpep_pickup_datetime'].dt.day\n",
    "        duration_results = (chunk['tpep_dropoff_datetime']-chunk['tpep_pickup_datetime']).dt.total_seconds()/60\n",
    "        total_amount_results = chunk[fee_columns].sum(axis=1)\n",
    "        \n",
    "        # Store calculations results\n",
    "        hour_col.extend(hour_results.tolist())\n",
    "        day_col.extend(day_results.tolist())\n",
    "        duration_min_values.extend(duration_results.tolist())\n",
    "        total_amount_values.extend(total_amount_results.tolist())\n",
    "        \n",
    "    # create the new fields\n",
    "    df['total_amount'] = total_amount_values\n",
    "    df['hour'] = hour_col\n",
    "    df['day'] = day_col\n",
    "    df['duration_min'] = duration_min_values"
   ]
  },
  {
   "cell_type": "markdown",
   "id": "b09ad80b-38ee-4869-a880-4714353feac6",
   "metadata": {},
   "source": [
    "Let's call the function to create the new features."
   ]
  },
  {
   "cell_type": "code",
   "execution_count": 103,
   "id": "341bf624-5995-41ec-ae42-410097073511",
   "metadata": {},
   "outputs": [],
   "source": [
    "create_new_features(df_jan, fee_comp_cols)"
   ]
  },
  {
   "cell_type": "markdown",
   "id": "0cf2004c-6710-4e0a-9095-2b35acc1bcee",
   "metadata": {},
   "source": [
    "Let's check the first few rows to observe the newly created columns."
   ]
  },
  {
   "cell_type": "code",
   "execution_count": 105,
   "id": "d429cb2c-2b4a-4103-a97f-5065864b63b4",
   "metadata": {},
   "outputs": [
    {
     "data": {
      "text/html": [
       "<div>\n",
       "<style scoped>\n",
       "    .dataframe tbody tr th:only-of-type {\n",
       "        vertical-align: middle;\n",
       "    }\n",
       "\n",
       "    .dataframe tbody tr th {\n",
       "        vertical-align: top;\n",
       "    }\n",
       "\n",
       "    .dataframe thead th {\n",
       "        text-align: right;\n",
       "    }\n",
       "</style>\n",
       "<table border=\"1\" class=\"dataframe\">\n",
       "  <thead>\n",
       "    <tr style=\"text-align: right;\">\n",
       "      <th></th>\n",
       "      <th>VendorID</th>\n",
       "      <th>tpep_pickup_datetime</th>\n",
       "      <th>tpep_dropoff_datetime</th>\n",
       "      <th>passenger_count</th>\n",
       "      <th>trip_distance</th>\n",
       "      <th>RatecodeID</th>\n",
       "      <th>store_and_fwd_flag</th>\n",
       "      <th>PULocationID</th>\n",
       "      <th>DOLocationID</th>\n",
       "      <th>payment_type</th>\n",
       "      <th>fare_amount</th>\n",
       "      <th>extra</th>\n",
       "      <th>mta_tax</th>\n",
       "      <th>tip_amount</th>\n",
       "      <th>tolls_amount</th>\n",
       "      <th>improvement_surcharge</th>\n",
       "      <th>congestion_surcharge</th>\n",
       "      <th>Airport_fee</th>\n",
       "      <th>total_amount</th>\n",
       "      <th>hour</th>\n",
       "      <th>day</th>\n",
       "      <th>duration_min</th>\n",
       "    </tr>\n",
       "  </thead>\n",
       "  <tbody>\n",
       "    <tr>\n",
       "      <th>0</th>\n",
       "      <td>2</td>\n",
       "      <td>2024-01-01 00:57:55</td>\n",
       "      <td>2024-01-01 01:17:43</td>\n",
       "      <td>1.0</td>\n",
       "      <td>1.72</td>\n",
       "      <td>1.0</td>\n",
       "      <td>N</td>\n",
       "      <td>186</td>\n",
       "      <td>79</td>\n",
       "      <td>2</td>\n",
       "      <td>17.7</td>\n",
       "      <td>1.0</td>\n",
       "      <td>0.5</td>\n",
       "      <td>0.0</td>\n",
       "      <td>0.0</td>\n",
       "      <td>1.0</td>\n",
       "      <td>2.5</td>\n",
       "      <td>0.0</td>\n",
       "      <td>22.7</td>\n",
       "      <td>0</td>\n",
       "      <td>1</td>\n",
       "      <td>19.8</td>\n",
       "    </tr>\n",
       "  </tbody>\n",
       "</table>\n",
       "</div>"
      ],
      "text/plain": [
       "   VendorID tpep_pickup_datetime tpep_dropoff_datetime passenger_count  \\\n",
       "0         2  2024-01-01 00:57:55   2024-01-01 01:17:43             1.0   \n",
       "\n",
       "   trip_distance  RatecodeID store_and_fwd_flag  PULocationID  DOLocationID  \\\n",
       "0           1.72         1.0                  N           186            79   \n",
       "\n",
       "   payment_type  fare_amount  extra  mta_tax  tip_amount  tolls_amount  \\\n",
       "0             2         17.7    1.0      0.5         0.0           0.0   \n",
       "\n",
       "   improvement_surcharge  congestion_surcharge  Airport_fee  total_amount  \\\n",
       "0                    1.0                   2.5          0.0          22.7   \n",
       "\n",
       "   hour  day  duration_min  \n",
       "0     0    1          19.8  "
      ]
     },
     "execution_count": 105,
     "metadata": {},
     "output_type": "execute_result"
    }
   ],
   "source": [
    "df_jan.head(1)"
   ]
  },
  {
   "cell_type": "markdown",
   "id": "5a8c1154-97cd-4da2-9d09-3a1931c8975d",
   "metadata": {},
   "source": [
    "### __Let's use the new Fields to clean the dataset further__"
   ]
  },
  {
   "cell_type": "markdown",
   "id": "db6d440c-8a00-4d65-8201-ce41d4a0f0e4",
   "metadata": {},
   "source": [
    "#### __Duration in Minutes__"
   ]
  },
  {
   "cell_type": "markdown",
   "id": "4da64937-20f6-408c-8004-ca769dc72849",
   "metadata": {},
   "source": [
    "* Let's remove invalid or unreasonable duration trips.\n",
    "* __Taxi and FHV drivers__ are prohibited from transporting passengers for more than __10 hrs__ in any __24-hour period__. \n",
    "* The maximum cap for a one trip is __600 minutes__ and it is certainly much lesser than that. \n",
    "* Let's drop these records if they exist."
   ]
  },
  {
   "cell_type": "code",
   "execution_count": 107,
   "id": "0a724586-c0c1-44ce-b9fe-9dd48fd6d7dd",
   "metadata": {},
   "outputs": [
    {
     "data": {
      "image/png": "[encoded data removed]",
      "text/plain": [
       "<Figure size 600x400 with 1 Axes>"
      ]
     },
     "metadata": {},
     "output_type": "display_data"
    }
   ],
   "source": [
    "# Let's now check the distribution of the duration minutes\n",
    "plt.figure(figsize=(6, 4))\n",
    "plt.hist(df_jan['duration_min'], bins=300, color='skyblue', edgecolor='black')\n",
    "plt.axvline(x=df_jan['duration_min'].quantile(0.999), color='red', linestyle='--', linewidth=2)\n",
    "plt.title('Duration in Minutes Histogram')\n",
    "plt.xlim(0, 600)\n",
    "plt.show()"
   ]
  },
  {
   "cell_type": "markdown",
   "id": "d3e86d7e-2233-4138-8b09-3ebdcff85009",
   "metadata": {},
   "source": [
    "* The duration in minutes is heavily positively skewed. The vertical red dashed line represents the __0.999 quantile__ of the duration in minutes, which is roughly about __115 minutes__.\n",
    "* To add a safe margin, let us drop trips with duration greater than __3 hrs__ (equivalently, __180 minutes__)."
   ]
  },
  {
   "cell_type": "code",
   "execution_count": 109,
   "id": "2e45ff2b-a834-4a96-b5ff-49a228d34d31",
   "metadata": {},
   "outputs": [
    {
     "name": "stdout",
     "output_type": "stream",
     "text": [
      "Now the dataset has 2,907,852 (2.91 million) rows and 22 columns\n"
     ]
    }
   ],
   "source": [
    "# Let's filter out these records \n",
    "df_jan = df_jan[df_jan['duration_min'] <= 180]\n",
    "print(f'Now the dataset has {df_jan.shape[0]:,} ({df_jan.shape[0]/1000000:.2f} million) rows and {df_jan.shape[1]} columns')"
   ]
  },
  {
   "cell_type": "markdown",
   "id": "6a4c0c7a-205b-431b-b00e-79dd4f9765f3",
   "metadata": {},
   "source": [
    "#### __Trip Distance__"
   ]
  },
  {
   "cell_type": "markdown",
   "id": "5308c22d-888e-488f-8b6a-82aeec1bae4a",
   "metadata": {},
   "source": [
    "We will start with removing records with __zero mile distance__."
   ]
  },
  {
   "cell_type": "code",
   "execution_count": 111,
   "id": "57d01d49-ee03-4920-8a5b-a58d363965bf",
   "metadata": {},
   "outputs": [
    {
     "name": "stdout",
     "output_type": "stream",
     "text": [
      "Now the dataset has 2,853,412 (2.85 million) rows and 22 columns\n"
     ]
    }
   ],
   "source": [
    "# Let's drop these records\n",
    "df_jan = df_jan[df_jan['trip_distance'] > 0]\n",
    "print(f'Now the dataset has {df_jan.shape[0]:,} ({df_jan.shape[0]/1000000:.2f} million) rows and {df_jan.shape[1]} columns')"
   ]
  },
  {
   "cell_type": "markdown",
   "id": "42106ff6-10df-4dd4-aa92-f70097887bf3",
   "metadata": {},
   "source": [
    "* The speed limit in new york city is __25 miles/hr__ unless otherwise specified. \n",
    "* Taking this with the __10 hrs__ diriving daily limit, let's check distributions for trips distances less than __250 miles__ <br>\n",
    "* It is quite possible some taxi drivers violate their speed limit, but it is cap for one trip"
   ]
  },
  {
   "cell_type": "code",
   "execution_count": 113,
   "id": "759fa165-e220-48ad-8f46-223251c901c9",
   "metadata": {},
   "outputs": [
    {
     "data": {
      "image/png": "[encoded data removed]",
      "text/plain": [
       "<Figure size 600x400 with 1 Axes>"
      ]
     },
     "metadata": {},
     "output_type": "display_data"
    }
   ],
   "source": [
    "# Let's now check the distribution of the trip distances in miles\n",
    "plt.figure(figsize=(6, 4))\n",
    "plt.hist(df_jan[df_jan['trip_distance'] < 250]['trip_distance'], bins=100, color='skyblue', edgecolor='black')\n",
    "plt.axvline(x=df_jan['trip_distance'].quantile(0.999), color='red', linestyle='--', linewidth=2)\n",
    "plt.title('Trip Distance Histogram')\n",
    "plt.show()"
   ]
  },
  {
   "cell_type": "markdown",
   "id": "b2081b79-d3ef-46cf-86a7-ffe587fdbc2c",
   "metadata": {},
   "source": [
    "* Even the __0.999 quantile__ hovers around __25 miles__.\n",
    "* Okay, will use the __3 hrs__ as the maximum for one trip along with __25 miles/hr__ speed.\n",
    "* Thus, we will filter out rows with trip distances greater than __75 miles__."
   ]
  },
  {
   "cell_type": "code",
   "execution_count": 115,
   "id": "ba9f4bc1-0e8d-461f-826d-8c4860ca2e73",
   "metadata": {},
   "outputs": [
    {
     "name": "stdout",
     "output_type": "stream",
     "text": [
      "Now the dataset has 2,853,346 (2.85 million) rows and 22 columns\n"
     ]
    }
   ],
   "source": [
    "# Let's filter out these records \n",
    "df_jan = df_jan[df_jan['trip_distance'] <= 75]\n",
    "print(f'Now the dataset has {df_jan.shape[0]:,} ({df_jan.shape[0]/1000000:.2f} million) rows and {df_jan.shape[1]} columns')"
   ]
  },
  {
   "cell_type": "markdown",
   "id": "d78925ae-50d3-4a80-a6d4-f580699edaaa",
   "metadata": {},
   "source": [
    "#### __Maximum Fare Amount__"
   ]
  },
  {
   "cell_type": "markdown",
   "id": "71d6129e-ee10-46be-877f-6554111c83c6",
   "metadata": {},
   "source": [
    "Now, knowing what we know about trip distances and trip duration, we can estimate the maximum fare amount.<br>\n",
    "We discarded trips in which duration is greater than __180 minutes__ or __75 miles__. <br>\n",
    "The standard fare is calculated as such,<br>\n",
    "- __$3.00 initial charge__. \n",
    "- Plus __70 cents__ per __1/5 mile__ when traveling above __12mph__ or per __60 seconds__ in slow traffic or when the vehicle is stopped. <br>\n",
    "Let's use these info to calculate fare based on maximum distance and based on maximum duration and then take the average between the two. <br>"
   ]
  },
  {
   "cell_type": "code",
   "execution_count": 117,
   "id": "cf53c52a-48ac-4742-b837-2750a8ce4d85",
   "metadata": {},
   "outputs": [
    {
     "data": {
      "text/plain": [
       "(129.0, 265.5, 197.25)"
      ]
     },
     "execution_count": 117,
     "metadata": {},
     "output_type": "execute_result"
    }
   ],
   "source": [
    "# maximum fare based on maximum duration\n",
    "max_fare_duration = 3 + 180*0.7\n",
    "max_fare_distance = 3 + 75*0.7*5\n",
    "average_fare = (max_fare_duration + max_fare_distance)/2\n",
    "max_fare_duration, max_fare_distance, average_fare"
   ]
  },
  {
   "cell_type": "markdown",
   "id": "0aabc3bd-17c6-4597-898d-e0a876419ae1",
   "metadata": {},
   "source": [
    "The __average maximum fare__ is about __197.25__.<br>\n",
    "Let's check the distribution of the fare amount."
   ]
  },
  {
   "cell_type": "code",
   "execution_count": 119,
   "id": "7d084085-eb3b-40bf-8efc-2c490e39a6b7",
   "metadata": {},
   "outputs": [
    {
     "data": {
      "image/png": "[encoded data removed]",
      "text/plain": [
       "<Figure size 600x400 with 1 Axes>"
      ]
     },
     "metadata": {},
     "output_type": "display_data"
    }
   ],
   "source": [
    "# Let's now check the distribution of the fare amount\n",
    "plt.figure(figsize=(6, 4))\n",
    "plt.hist(df_jan[df_jan['fare_amount'] <=200]['fare_amount'], bins=100, color='skyblue', edgecolor='black')\n",
    "plt.axvline(x=df_jan['fare_amount'].quantile(0.999), color='red', linestyle='--', linewidth=2)\n",
    "plt.title('Base Fare Histogram')\n",
    "plt.show()"
   ]
  },
  {
   "cell_type": "markdown",
   "id": "162e995d-92a1-499a-9236-bfe116e56260",
   "metadata": {},
   "source": [
    "* The distribution of the fare amount is right skewed distribution, similar to trip distance and trip duration.\n",
    "* This makes sense since the fare value is calculated based on trip duration and distances, so it is reasonable that they exhibit similar ditributions.\n",
    "* The __0.999 quantile__ is about __\\\\$120__.\n",
    "* Let's drop trips below __\\\\$200__."
   ]
  },
  {
   "cell_type": "code",
   "execution_count": 121,
   "id": "f142b9bd-ff01-4d76-bae1-28a0de994a4b",
   "metadata": {},
   "outputs": [
    {
     "name": "stdout",
     "output_type": "stream",
     "text": [
      "Now the dataset has 2,852,777 (2.85 million) rows and 22 columns\n"
     ]
    }
   ],
   "source": [
    "# Let's filter out these records \n",
    "df_jan = df_jan[df_jan['fare_amount'] <= 200]\n",
    "print(f'Now the dataset has {df_jan.shape[0]:,} ({df_jan.shape[0]/1000000:.2f} million) rows and {df_jan.shape[1]} columns')"
   ]
  },
  {
   "cell_type": "markdown",
   "id": "016a5ad8-dd2c-4c2c-9ff7-ea21c459ff3d",
   "metadata": {},
   "source": [
    "## __6- Drop Unnecessary Columns__"
   ]
  },
  {
   "cell_type": "code",
   "execution_count": 123,
   "id": "11279d2d-968e-47f6-b06a-41a287388000",
   "metadata": {},
   "outputs": [],
   "source": [
    "# Let's define a list of unnecessary columns\n",
    "irrelevant_cols = ['VendorID', 'RatecodeID', 'store_and_fwd_flag']\n",
    "df_jan = df_jan.drop(irrelevant_cols, axis=1)"
   ]
  },
  {
   "cell_type": "markdown",
   "id": "d45b34a2-c67c-4659-bf3b-055f21784f6a",
   "metadata": {},
   "source": [
    "## __7- Handling Null Values__"
   ]
  },
  {
   "cell_type": "code",
   "execution_count": 125,
   "id": "a2e69d22-c23c-4dba-b533-912f5ca69db1",
   "metadata": {},
   "outputs": [
    {
     "data": {
      "text/plain": [
       "congestion_surcharge    113848\n",
       "Airport_fee             113848\n",
       "dtype: int64"
      ]
     },
     "execution_count": 125,
     "metadata": {},
     "output_type": "execute_result"
    }
   ],
   "source": [
    "df_jan.isnull().sum()[df_jan.isnull().sum() > 0]"
   ]
  },
  {
   "cell_type": "code",
   "execution_count": 127,
   "id": "3d806d2a-ddeb-45c3-a9f9-ffcef8f8049d",
   "metadata": {},
   "outputs": [],
   "source": [
    "# not all trips will have congestion or airport charges, so let's fill these null values with zeros\n",
    "df_jan[['congestion_surcharge', 'Airport_fee']] = df_jan[['congestion_surcharge', 'Airport_fee']].fillna(0)"
   ]
  },
  {
   "cell_type": "markdown",
   "id": "8be724cc-e795-4fcd-8b5d-250daddbd24b",
   "metadata": {},
   "source": [
    "## __8- Rearrange Columns__"
   ]
  },
  {
   "cell_type": "code",
   "execution_count": 129,
   "id": "811f8ecb-9f5a-41b8-a7d6-3d5e6d7b2de5",
   "metadata": {},
   "outputs": [],
   "source": [
    "# create a list of ordere column names\n",
    "cols = [ 'day', 'hour', 'tpep_pickup_datetime', 'tpep_dropoff_datetime', 'duration_min', 'trip_distance', 'passenger_count', \n",
    "        'PULocationID', 'DOLocationID', 'payment_type', 'fare_amount', 'extra', 'mta_tax', 'tip_amount', 'tolls_amount', 'improvement_surcharge', \n",
    "        'congestion_surcharge', 'Airport_fee', 'total_amount']\n",
    "df_jan = df_jan[cols]"
   ]
  },
  {
   "cell_type": "markdown",
   "id": "fa3cc756-f38b-46b3-afcf-1cb925b25e32",
   "metadata": {},
   "source": [
    "## __9- Merge with Taxi Zone Lookup Table__"
   ]
  },
  {
   "cell_type": "code",
   "execution_count": 131,
   "id": "87dd5076-b5d1-4cae-b706-5006d2944bc0",
   "metadata": {},
   "outputs": [
    {
     "data": {
      "text/html": [
       "<div>\n",
       "<style scoped>\n",
       "    .dataframe tbody tr th:only-of-type {\n",
       "        vertical-align: middle;\n",
       "    }\n",
       "\n",
       "    .dataframe tbody tr th {\n",
       "        vertical-align: top;\n",
       "    }\n",
       "\n",
       "    .dataframe thead th {\n",
       "        text-align: right;\n",
       "    }\n",
       "</style>\n",
       "<table border=\"1\" class=\"dataframe\">\n",
       "  <thead>\n",
       "    <tr style=\"text-align: right;\">\n",
       "      <th></th>\n",
       "      <th>LocationID</th>\n",
       "      <th>Borough</th>\n",
       "      <th>Zone</th>\n",
       "      <th>service_zone</th>\n",
       "    </tr>\n",
       "  </thead>\n",
       "  <tbody>\n",
       "    <tr>\n",
       "      <th>0</th>\n",
       "      <td>1</td>\n",
       "      <td>EWR</td>\n",
       "      <td>Newark Airport</td>\n",
       "      <td>EWR</td>\n",
       "    </tr>\n",
       "    <tr>\n",
       "      <th>1</th>\n",
       "      <td>2</td>\n",
       "      <td>Queens</td>\n",
       "      <td>Jamaica Bay</td>\n",
       "      <td>Boro Zone</td>\n",
       "    </tr>\n",
       "    <tr>\n",
       "      <th>2</th>\n",
       "      <td>3</td>\n",
       "      <td>Bronx</td>\n",
       "      <td>Allerton/Pelham Gardens</td>\n",
       "      <td>Boro Zone</td>\n",
       "    </tr>\n",
       "    <tr>\n",
       "      <th>3</th>\n",
       "      <td>4</td>\n",
       "      <td>Manhattan</td>\n",
       "      <td>Alphabet City</td>\n",
       "      <td>Yellow Zone</td>\n",
       "    </tr>\n",
       "    <tr>\n",
       "      <th>4</th>\n",
       "      <td>5</td>\n",
       "      <td>Staten Island</td>\n",
       "      <td>Arden Heights</td>\n",
       "      <td>Boro Zone</td>\n",
       "    </tr>\n",
       "  </tbody>\n",
       "</table>\n",
       "</div>"
      ],
      "text/plain": [
       "   LocationID        Borough                     Zone service_zone\n",
       "0           1            EWR           Newark Airport          EWR\n",
       "1           2         Queens              Jamaica Bay    Boro Zone\n",
       "2           3          Bronx  Allerton/Pelham Gardens    Boro Zone\n",
       "3           4      Manhattan            Alphabet City  Yellow Zone\n",
       "4           5  Staten Island            Arden Heights    Boro Zone"
      ]
     },
     "execution_count": 131,
     "metadata": {},
     "output_type": "execute_result"
    }
   ],
   "source": [
    "# create the path for the taxi zone lookup table\n",
    "path = r\"D:\\0_desktop_temp\\data_analysisPro\\yellow_taxi_dataset\\taxi_zone_lookup.csv\"\n",
    "\n",
    "# load a dataset\n",
    "df_zones = pd.read_csv(path)\n",
    "df_zones.head()"
   ]
  },
  {
   "cell_type": "markdown",
   "id": "9cd073f4-033b-4f41-b534-51508f3a9593",
   "metadata": {},
   "source": [
    "We will merge the trip dataframe with the taxi zone lookup dataframe twice to account for both Pickup and dropoff locations."
   ]
  },
  {
   "cell_type": "code",
   "execution_count": 133,
   "id": "e8829cac-ce9e-4f29-b9f4-a34faaa610fa",
   "metadata": {},
   "outputs": [],
   "source": [
    "# Merge DataFrames\n",
    "df_jan = pd.merge(df_jan, df_zones.drop(['service_zone', 'Zone'], axis=1), left_on='PULocationID', right_on='LocationID', how='left')\n",
    "df_jan.rename(columns={'Borough': 'PU_Borough'}, inplace=True)\n",
    "\n",
    "df_jan = pd.merge(df_jan, df_zones.drop(['service_zone', 'Zone'], axis=1), left_on='DOLocationID', right_on='LocationID', how='left')\n",
    "df_jan.rename(columns={'Borough': 'DO_Borough'}, inplace=True)"
   ]
  },
  {
   "cell_type": "code",
   "execution_count": 135,
   "id": "b420fc78-322f-4ecc-8aa9-9826a115a983",
   "metadata": {},
   "outputs": [
    {
     "data": {
      "text/plain": [
       "PU_Borough     613\n",
       "DO_Borough    8378\n",
       "dtype: int64"
      ]
     },
     "execution_count": 135,
     "metadata": {},
     "output_type": "execute_result"
    }
   ],
   "source": [
    "# Let's check if we have missing values\n",
    "df_jan.isna().sum()[df_jan.isna().sum() > 0]"
   ]
  },
  {
   "cell_type": "code",
   "execution_count": 137,
   "id": "3c7769ee-73af-4be8-af82-239c6a1cd4e2",
   "metadata": {},
   "outputs": [],
   "source": [
    "# Let's assign the null Boroughs the Unknown label\n",
    "df_jan['PU_Borough'] = df_jan['PU_Borough'].fillna('Unknown')\n",
    "df_jan['DO_Borough'] = df_jan['DO_Borough'].fillna('Unknown')"
   ]
  },
  {
   "cell_type": "markdown",
   "id": "ea135850-7c02-47f2-b71e-ef109cf64641",
   "metadata": {},
   "source": [
    "Let's rearrange columns and drop redundant columns."
   ]
  },
  {
   "cell_type": "code",
   "execution_count": 139,
   "id": "b0569d03-caa8-4b9c-9556-25021362ac0f",
   "metadata": {},
   "outputs": [],
   "source": [
    "# Let's rearrange and drop unneeded columns\n",
    "keep_cols = ['day', 'hour', 'duration_min', 'trip_distance', 'passenger_count',  'PU_Borough', 'PULocationID', 'DO_Borough', 'DOLocationID', \n",
    "            'payment_type', 'fare_amount', 'extra', 'mta_tax', 'tip_amount', 'tolls_amount', 'improvement_surcharge', 'congestion_surcharge', \n",
    "            'Airport_fee', 'total_amount']\n",
    "\n",
    "df_jan = df_jan[keep_cols]"
   ]
  },
  {
   "cell_type": "code",
   "execution_count": 141,
   "id": "b0c9f3a6-422b-45aa-bcbb-02f7c528ef4a",
   "metadata": {},
   "outputs": [
    {
     "data": {
      "text/html": [
       "<div>\n",
       "<style scoped>\n",
       "    .dataframe tbody tr th:only-of-type {\n",
       "        vertical-align: middle;\n",
       "    }\n",
       "\n",
       "    .dataframe tbody tr th {\n",
       "        vertical-align: top;\n",
       "    }\n",
       "\n",
       "    .dataframe thead th {\n",
       "        text-align: right;\n",
       "    }\n",
       "</style>\n",
       "<table border=\"1\" class=\"dataframe\">\n",
       "  <thead>\n",
       "    <tr style=\"text-align: right;\">\n",
       "      <th></th>\n",
       "      <th>day</th>\n",
       "      <th>hour</th>\n",
       "      <th>duration_min</th>\n",
       "      <th>trip_distance</th>\n",
       "      <th>passenger_count</th>\n",
       "      <th>PU_Borough</th>\n",
       "      <th>PULocationID</th>\n",
       "      <th>DO_Borough</th>\n",
       "      <th>DOLocationID</th>\n",
       "      <th>payment_type</th>\n",
       "      <th>fare_amount</th>\n",
       "      <th>extra</th>\n",
       "      <th>mta_tax</th>\n",
       "      <th>tip_amount</th>\n",
       "      <th>tolls_amount</th>\n",
       "      <th>improvement_surcharge</th>\n",
       "      <th>congestion_surcharge</th>\n",
       "      <th>Airport_fee</th>\n",
       "      <th>total_amount</th>\n",
       "    </tr>\n",
       "  </thead>\n",
       "  <tbody>\n",
       "    <tr>\n",
       "      <th>0</th>\n",
       "      <td>1</td>\n",
       "      <td>0</td>\n",
       "      <td>19.800000</td>\n",
       "      <td>1.72</td>\n",
       "      <td>1.0</td>\n",
       "      <td>Manhattan</td>\n",
       "      <td>186</td>\n",
       "      <td>Manhattan</td>\n",
       "      <td>79</td>\n",
       "      <td>2</td>\n",
       "      <td>17.7</td>\n",
       "      <td>1.0</td>\n",
       "      <td>0.5</td>\n",
       "      <td>0.00</td>\n",
       "      <td>0.0</td>\n",
       "      <td>1.0</td>\n",
       "      <td>2.5</td>\n",
       "      <td>0.0</td>\n",
       "      <td>22.70</td>\n",
       "    </tr>\n",
       "    <tr>\n",
       "      <th>1</th>\n",
       "      <td>1</td>\n",
       "      <td>0</td>\n",
       "      <td>6.600000</td>\n",
       "      <td>1.80</td>\n",
       "      <td>1.0</td>\n",
       "      <td>Manhattan</td>\n",
       "      <td>140</td>\n",
       "      <td>Manhattan</td>\n",
       "      <td>236</td>\n",
       "      <td>1</td>\n",
       "      <td>10.0</td>\n",
       "      <td>3.5</td>\n",
       "      <td>0.5</td>\n",
       "      <td>3.75</td>\n",
       "      <td>0.0</td>\n",
       "      <td>1.0</td>\n",
       "      <td>2.5</td>\n",
       "      <td>0.0</td>\n",
       "      <td>21.25</td>\n",
       "    </tr>\n",
       "    <tr>\n",
       "      <th>2</th>\n",
       "      <td>1</td>\n",
       "      <td>0</td>\n",
       "      <td>17.916667</td>\n",
       "      <td>4.70</td>\n",
       "      <td>1.0</td>\n",
       "      <td>Manhattan</td>\n",
       "      <td>236</td>\n",
       "      <td>Manhattan</td>\n",
       "      <td>79</td>\n",
       "      <td>1</td>\n",
       "      <td>23.3</td>\n",
       "      <td>3.5</td>\n",
       "      <td>0.5</td>\n",
       "      <td>3.00</td>\n",
       "      <td>0.0</td>\n",
       "      <td>1.0</td>\n",
       "      <td>2.5</td>\n",
       "      <td>0.0</td>\n",
       "      <td>33.80</td>\n",
       "    </tr>\n",
       "    <tr>\n",
       "      <th>3</th>\n",
       "      <td>1</td>\n",
       "      <td>0</td>\n",
       "      <td>8.300000</td>\n",
       "      <td>1.40</td>\n",
       "      <td>1.0</td>\n",
       "      <td>Manhattan</td>\n",
       "      <td>79</td>\n",
       "      <td>Manhattan</td>\n",
       "      <td>211</td>\n",
       "      <td>1</td>\n",
       "      <td>10.0</td>\n",
       "      <td>3.5</td>\n",
       "      <td>0.5</td>\n",
       "      <td>2.00</td>\n",
       "      <td>0.0</td>\n",
       "      <td>1.0</td>\n",
       "      <td>2.5</td>\n",
       "      <td>0.0</td>\n",
       "      <td>19.50</td>\n",
       "    </tr>\n",
       "    <tr>\n",
       "      <th>4</th>\n",
       "      <td>1</td>\n",
       "      <td>0</td>\n",
       "      <td>6.100000</td>\n",
       "      <td>0.80</td>\n",
       "      <td>1.0</td>\n",
       "      <td>Manhattan</td>\n",
       "      <td>211</td>\n",
       "      <td>Manhattan</td>\n",
       "      <td>148</td>\n",
       "      <td>1</td>\n",
       "      <td>7.9</td>\n",
       "      <td>3.5</td>\n",
       "      <td>0.5</td>\n",
       "      <td>3.20</td>\n",
       "      <td>0.0</td>\n",
       "      <td>1.0</td>\n",
       "      <td>2.5</td>\n",
       "      <td>0.0</td>\n",
       "      <td>18.60</td>\n",
       "    </tr>\n",
       "  </tbody>\n",
       "</table>\n",
       "</div>"
      ],
      "text/plain": [
       "   day  hour  duration_min  trip_distance passenger_count PU_Borough  \\\n",
       "0    1     0     19.800000           1.72             1.0  Manhattan   \n",
       "1    1     0      6.600000           1.80             1.0  Manhattan   \n",
       "2    1     0     17.916667           4.70             1.0  Manhattan   \n",
       "3    1     0      8.300000           1.40             1.0  Manhattan   \n",
       "4    1     0      6.100000           0.80             1.0  Manhattan   \n",
       "\n",
       "   PULocationID DO_Borough  DOLocationID  payment_type  fare_amount  extra  \\\n",
       "0           186  Manhattan            79             2         17.7    1.0   \n",
       "1           140  Manhattan           236             1         10.0    3.5   \n",
       "2           236  Manhattan            79             1         23.3    3.5   \n",
       "3            79  Manhattan           211             1         10.0    3.5   \n",
       "4           211  Manhattan           148             1          7.9    3.5   \n",
       "\n",
       "   mta_tax  tip_amount  tolls_amount  improvement_surcharge  \\\n",
       "0      0.5        0.00           0.0                    1.0   \n",
       "1      0.5        3.75           0.0                    1.0   \n",
       "2      0.5        3.00           0.0                    1.0   \n",
       "3      0.5        2.00           0.0                    1.0   \n",
       "4      0.5        3.20           0.0                    1.0   \n",
       "\n",
       "   congestion_surcharge  Airport_fee  total_amount  \n",
       "0                   2.5          0.0         22.70  \n",
       "1                   2.5          0.0         21.25  \n",
       "2                   2.5          0.0         33.80  \n",
       "3                   2.5          0.0         19.50  \n",
       "4                   2.5          0.0         18.60  "
      ]
     },
     "execution_count": 141,
     "metadata": {},
     "output_type": "execute_result"
    }
   ],
   "source": [
    "df_jan.head()"
   ]
  },
  {
   "cell_type": "markdown",
   "id": "8f775f0c-aa6b-4b0d-bb35-a0b4b98b233a",
   "metadata": {},
   "source": [
    "## __10- Aggregating the Dataset__"
   ]
  },
  {
   "cell_type": "code",
   "execution_count": 143,
   "id": "51c886b3-24ca-4383-9b88-d0f0c103ba56",
   "metadata": {},
   "outputs": [],
   "source": [
    "# Group by multiple columns\n",
    "categorical_cols = ['day', 'hour','passenger_count', 'PU_Borough', 'DO_Borough', 'payment_type']\n",
    "df_grouped = df_jan.groupby(categorical_cols).agg(\n",
    "    trip_count=('trip_distance', 'size'),\n",
    "    trip_distance_sum=('trip_distance', 'sum'),\n",
    "    duration_sum=('duration_min', 'sum'),\n",
    "    fare_amount_sum=('fare_amount', 'sum'),\n",
    "    extra_sum=('extra', 'sum'),\n",
    "    mta_tax_sum=('mta_tax', 'sum'),\n",
    "    tip_amount_sum=('tip_amount', 'sum'),\n",
    "    tolls_amount_sum=('tolls_amount', 'sum'),\n",
    "    improvement_surcharge_sum=('improvement_surcharge', 'sum'),\n",
    "    congestion_surcharge_sum=('congestion_surcharge', 'sum'),\n",
    "    airport_fee_sum=('Airport_fee', 'sum'),\n",
    "    total_amount_sum=('total_amount', 'sum')\n",
    ").reset_index()"
   ]
  },
  {
   "cell_type": "code",
   "execution_count": 145,
   "id": "9f294822-9723-4adf-9af4-35dd1d8b419d",
   "metadata": {},
   "outputs": [
    {
     "data": {
      "text/html": [
       "<div>\n",
       "<style scoped>\n",
       "    .dataframe tbody tr th:only-of-type {\n",
       "        vertical-align: middle;\n",
       "    }\n",
       "\n",
       "    .dataframe tbody tr th {\n",
       "        vertical-align: top;\n",
       "    }\n",
       "\n",
       "    .dataframe thead th {\n",
       "        text-align: right;\n",
       "    }\n",
       "</style>\n",
       "<table border=\"1\" class=\"dataframe\">\n",
       "  <thead>\n",
       "    <tr style=\"text-align: right;\">\n",
       "      <th></th>\n",
       "      <th>day</th>\n",
       "      <th>hour</th>\n",
       "      <th>passenger_count</th>\n",
       "      <th>PU_Borough</th>\n",
       "      <th>DO_Borough</th>\n",
       "      <th>payment_type</th>\n",
       "      <th>trip_count</th>\n",
       "      <th>trip_distance_sum</th>\n",
       "      <th>duration_sum</th>\n",
       "      <th>fare_amount_sum</th>\n",
       "      <th>extra_sum</th>\n",
       "      <th>mta_tax_sum</th>\n",
       "      <th>tip_amount_sum</th>\n",
       "      <th>tolls_amount_sum</th>\n",
       "      <th>improvement_surcharge_sum</th>\n",
       "      <th>congestion_surcharge_sum</th>\n",
       "      <th>airport_fee_sum</th>\n",
       "      <th>total_amount_sum</th>\n",
       "    </tr>\n",
       "  </thead>\n",
       "  <tbody>\n",
       "    <tr>\n",
       "      <th>0</th>\n",
       "      <td>1</td>\n",
       "      <td>0</td>\n",
       "      <td>1.0</td>\n",
       "      <td>Bronx</td>\n",
       "      <td>Bronx</td>\n",
       "      <td>2</td>\n",
       "      <td>2</td>\n",
       "      <td>1.60</td>\n",
       "      <td>9.216667</td>\n",
       "      <td>13.0</td>\n",
       "      <td>2.0</td>\n",
       "      <td>1.0</td>\n",
       "      <td>0.00</td>\n",
       "      <td>0.00</td>\n",
       "      <td>2.0</td>\n",
       "      <td>0.0</td>\n",
       "      <td>0.00</td>\n",
       "      <td>18.00</td>\n",
       "    </tr>\n",
       "    <tr>\n",
       "      <th>1</th>\n",
       "      <td>1</td>\n",
       "      <td>0</td>\n",
       "      <td>1.0</td>\n",
       "      <td>Bronx</td>\n",
       "      <td>Manhattan</td>\n",
       "      <td>2</td>\n",
       "      <td>1</td>\n",
       "      <td>7.50</td>\n",
       "      <td>18.666667</td>\n",
       "      <td>32.4</td>\n",
       "      <td>1.0</td>\n",
       "      <td>0.5</td>\n",
       "      <td>0.00</td>\n",
       "      <td>0.00</td>\n",
       "      <td>1.0</td>\n",
       "      <td>0.0</td>\n",
       "      <td>0.00</td>\n",
       "      <td>34.90</td>\n",
       "    </tr>\n",
       "    <tr>\n",
       "      <th>2</th>\n",
       "      <td>1</td>\n",
       "      <td>0</td>\n",
       "      <td>1.0</td>\n",
       "      <td>Brooklyn</td>\n",
       "      <td>Brooklyn</td>\n",
       "      <td>1</td>\n",
       "      <td>6</td>\n",
       "      <td>10.28</td>\n",
       "      <td>42.750000</td>\n",
       "      <td>60.7</td>\n",
       "      <td>6.0</td>\n",
       "      <td>3.0</td>\n",
       "      <td>11.65</td>\n",
       "      <td>0.00</td>\n",
       "      <td>6.0</td>\n",
       "      <td>0.0</td>\n",
       "      <td>0.00</td>\n",
       "      <td>87.35</td>\n",
       "    </tr>\n",
       "    <tr>\n",
       "      <th>3</th>\n",
       "      <td>1</td>\n",
       "      <td>0</td>\n",
       "      <td>1.0</td>\n",
       "      <td>Brooklyn</td>\n",
       "      <td>Brooklyn</td>\n",
       "      <td>2</td>\n",
       "      <td>4</td>\n",
       "      <td>5.89</td>\n",
       "      <td>38.050000</td>\n",
       "      <td>70.6</td>\n",
       "      <td>3.0</td>\n",
       "      <td>1.5</td>\n",
       "      <td>0.00</td>\n",
       "      <td>0.00</td>\n",
       "      <td>4.0</td>\n",
       "      <td>0.0</td>\n",
       "      <td>1.75</td>\n",
       "      <td>80.85</td>\n",
       "    </tr>\n",
       "    <tr>\n",
       "      <th>4</th>\n",
       "      <td>1</td>\n",
       "      <td>0</td>\n",
       "      <td>1.0</td>\n",
       "      <td>Brooklyn</td>\n",
       "      <td>Manhattan</td>\n",
       "      <td>1</td>\n",
       "      <td>10</td>\n",
       "      <td>53.13</td>\n",
       "      <td>263.683333</td>\n",
       "      <td>303.0</td>\n",
       "      <td>12.5</td>\n",
       "      <td>5.0</td>\n",
       "      <td>67.20</td>\n",
       "      <td>13.88</td>\n",
       "      <td>10.0</td>\n",
       "      <td>25.0</td>\n",
       "      <td>0.00</td>\n",
       "      <td>436.58</td>\n",
       "    </tr>\n",
       "  </tbody>\n",
       "</table>\n",
       "</div>"
      ],
      "text/plain": [
       "   day  hour passenger_count PU_Borough DO_Borough  payment_type  trip_count  \\\n",
       "0    1     0             1.0      Bronx      Bronx             2           2   \n",
       "1    1     0             1.0      Bronx  Manhattan             2           1   \n",
       "2    1     0             1.0   Brooklyn   Brooklyn             1           6   \n",
       "3    1     0             1.0   Brooklyn   Brooklyn             2           4   \n",
       "4    1     0             1.0   Brooklyn  Manhattan             1          10   \n",
       "\n",
       "   trip_distance_sum  duration_sum  fare_amount_sum  extra_sum  mta_tax_sum  \\\n",
       "0               1.60      9.216667             13.0        2.0          1.0   \n",
       "1               7.50     18.666667             32.4        1.0          0.5   \n",
       "2              10.28     42.750000             60.7        6.0          3.0   \n",
       "3               5.89     38.050000             70.6        3.0          1.5   \n",
       "4              53.13    263.683333            303.0       12.5          5.0   \n",
       "\n",
       "   tip_amount_sum  tolls_amount_sum  improvement_surcharge_sum  \\\n",
       "0            0.00              0.00                        2.0   \n",
       "1            0.00              0.00                        1.0   \n",
       "2           11.65              0.00                        6.0   \n",
       "3            0.00              0.00                        4.0   \n",
       "4           67.20             13.88                       10.0   \n",
       "\n",
       "   congestion_surcharge_sum  airport_fee_sum  total_amount_sum  \n",
       "0                       0.0             0.00             18.00  \n",
       "1                       0.0             0.00             34.90  \n",
       "2                       0.0             0.00             87.35  \n",
       "3                       0.0             1.75             80.85  \n",
       "4                      25.0             0.00            436.58  "
      ]
     },
     "execution_count": 145,
     "metadata": {},
     "output_type": "execute_result"
    }
   ],
   "source": [
    "df_grouped.head()"
   ]
  },
  {
   "cell_type": "code",
   "execution_count": 147,
   "id": "de5d3e12-f4a2-4524-95e1-2229a2a0a88d",
   "metadata": {},
   "outputs": [],
   "source": [
    "# Let's create a date column\n",
    "date_col = pd.to_datetime({\n",
    "    'year': 2024,\n",
    "    'month': 1,\n",
    "    'day': df_grouped['day']\n",
    "})\n",
    "\n",
    "# Insert it as the first column\n",
    "df_grouped.insert(0, 'date', date_col)\n",
    "df_grouped.drop('day', axis=1, inplace=True)"
   ]
  },
  {
   "cell_type": "code",
   "execution_count": 149,
   "id": "618627c8-4ae3-47cd-8776-35e9e9559813",
   "metadata": {},
   "outputs": [],
   "source": [
    "df_grouped['hour'] = df_grouped['hour'].apply(lambda x: f\"{int(x):02d}:{0:02d}\")"
   ]
  },
  {
   "cell_type": "markdown",
   "id": "aeec13b4-1094-49ee-a5fa-9e300a19d987",
   "metadata": {},
   "source": [
    "## __11- Apply Cleaning Steps Across All the Months__"
   ]
  },
  {
   "cell_type": "markdown",
   "id": "167333a7-ee7a-44c0-bd43-0f59005323bb",
   "metadata": {},
   "source": [
    "Let's a create a function to do that."
   ]
  },
  {
   "cell_type": "code",
   "execution_count": 151,
   "id": "62b01b62-76fa-446d-a159-e5c0a864a3ac",
   "metadata": {},
   "outputs": [],
   "source": [
    "def yellow_taxi_cleaning(df_taxi_trips, df_zones, fee_columns, keep_cols, agg_columns):\n",
    "    \n",
    "    df_agg_bor = pd.DataFrame()\n",
    "    df_agg_zone = pd.DataFrame()\n",
    "    \n",
    "    agg_num_rows = 0\n",
    "    \n",
    "    for month_num in range(1, 13):\n",
    "        df_month = df_taxi_trips[df_taxi_trips['tpep_pickup_datetime'].dt.month == month_num].copy()\n",
    "        \n",
    "        invalid_passengers = (df_month['passenger_count'] < 1) |(df_month['passenger_count'] > 5) | (df_month['passenger_count'].isna())\n",
    "        df_month['passenger_count'] = df_month['passenger_count'].astype(str)\n",
    "        df_month.loc[invalid_passengers, 'passenger_count'] = \"Unknown\"\n",
    "        \n",
    "        df_month = df_month[df_month['tpep_pickup_datetime'].dt.year == 2024]\n",
    "        \n",
    "        neg_duration = df_month['tpep_pickup_datetime'] >= df_month['tpep_dropoff_datetime']\n",
    "        df_month = df_month[~neg_duration]\n",
    "\n",
    "        df_month['improvement_surcharge'] = df_month['improvement_surcharge'].abs()\n",
    "        standard_trips_rateCode = [1, 2, 3, 4]\n",
    "        invalid_standard_trips = (df_month['improvement_surcharge'] != 1) & (df_month['RatecodeID'].isin(standard_trips_rateCode))\n",
    "        df_month = df_month[~invalid_standard_trips]\n",
    "\n",
    "        df_month['mta_tax'] = df_month['mta_tax'].abs()\n",
    "        invalid_mta_tax = (df_month['mta_tax'] != 0.5) & (df_month['RatecodeID'].isin(standard_trips_rateCode))\n",
    "        df_month = df_month[~invalid_mta_tax]\n",
    "\n",
    "        df_month['congestion_surcharge'] = df_month['congestion_surcharge'].abs()\n",
    "        \n",
    "        df_month['Airport_fee'] = df_month['Airport_fee'].abs()\n",
    "        \n",
    "        negative_fare = (df_month[fee_columns] < 0).any(axis=1)\n",
    "        df_month = df_month[~negative_fare]\n",
    "\n",
    "        df_month = df_month[df_month['tolls_amount'] <= 54]\n",
    "\n",
    "        df_month.loc[df_month['payment_type'] != 1, 'tip_amount'] = 0\n",
    "        df_month = df_month[df_month['tip_amount'] <= 1.2*df_month['fare_amount']]\n",
    "        \n",
    "        df_month.drop(['VendorID', 'RatecodeID', 'store_and_fwd_flag', 'total_amount'], axis=1, inplace=True)\n",
    "        \n",
    "        create_new_features(df_month, fee_columns)\n",
    "\n",
    "        df_month = df_month[df_month['duration_min'] <= 180]\n",
    "\n",
    "        df_month = df_month[(df_month['trip_distance'] > 0) & (df_month['trip_distance'] <= 75)]\n",
    "\n",
    "        df_month = df_month[(df_month['fare_amount'] >= 3) & (df_month['fare_amount'] <= 200)]\n",
    "\n",
    "        df_month[['congestion_surcharge', 'Airport_fee']] = df_month[['congestion_surcharge', 'Airport_fee']].fillna(0)\n",
    "\n",
    "        df_month = pd.merge(df_month, df_zones.drop(['service_zone', 'Zone'], axis=1), left_on='PULocationID', right_on='LocationID', how='left')\n",
    "        df_month.rename(columns={'Borough': 'PU_Borough'}, inplace=True)\n",
    "\n",
    "        df_month = pd.merge(df_month, df_zones.drop(['service_zone', 'Zone'], axis=1), left_on='DOLocationID', right_on='LocationID', how='left')\n",
    "        df_month.rename(columns={'Borough': 'DO_Borough'}, inplace=True)\n",
    "\n",
    "        df_month['PU_Borough'] = df_month['PU_Borough'].fillna('Unknown')\n",
    "        df_month['DO_Borough'] = df_month['DO_Borough'].fillna('Unknown')\n",
    "\n",
    "        df_month = df_month[keep_cols]\n",
    "\n",
    "        print(f\"Number of trips before aggregation {df_month.shape[0]:,}\")\n",
    "\n",
    "        df_month_bor = df_month.groupby(categorical_cols).agg(\n",
    "            trip_count=('trip_distance', 'size'),\n",
    "            trip_distance_sum=('trip_distance', 'sum'),\n",
    "            duration_sum=('duration_min', 'sum'),\n",
    "            fare_amount_sum=('fare_amount', 'sum'),\n",
    "            extra_sum=('extra', 'sum'),\n",
    "            mta_tax_sum=('mta_tax', 'sum'),\n",
    "            tip_amount_sum=('tip_amount', 'sum'),\n",
    "            tolls_amount_sum=('tolls_amount', 'sum'),\n",
    "            improvement_surcharge_sum=('improvement_surcharge', 'sum'),\n",
    "            congestion_surcharge_sum=('congestion_surcharge', 'sum'),\n",
    "            airport_fee_sum=('Airport_fee', 'sum'),\n",
    "            total_amount_sum=('total_amount', 'sum')\n",
    "        ).reset_index()\n",
    "\n",
    "        date_col = pd.to_datetime({\n",
    "            'year': 2024,\n",
    "            'month': month_num,\n",
    "            'day': df_month_bor['day']\n",
    "        })\n",
    "\n",
    "        df_month_bor.insert(0, 'date', date_col)\n",
    "        df_month_bor.drop('day', axis=1, inplace=True)\n",
    "\n",
    "        df_month_bor['hour'] = df_month_bor['hour'].apply(lambda x: f\"{int(x):02d}:{0:02d}\")\n",
    "\n",
    "        df_month_zone = df_month.groupby(['PULocationID', 'DOLocationID']).size().reset_index(name='trip_count')\n",
    "\n",
    "        df_month_zone = pd.merge(df_month_zone, df_zones.drop(['service_zone'], axis=1), left_on='PULocationID', right_on='LocationID', how='left')\n",
    "        df_month_zone.rename(columns={'Borough': 'PU_Borough', 'Zone': 'PU_Zone'}, inplace=True)\n",
    "\n",
    "        df_month_zone = pd.merge(df_month_zone, df_zones.drop(['service_zone'], axis=1), left_on='DOLocationID', right_on='LocationID', how='left')\n",
    "        df_month_zone.rename(columns={'Borough': 'DO_Borough','Zone': 'DO_Zone'}, inplace=True)\n",
    "\n",
    "        df_month_zone = df_month_zone[['PU_Borough', 'PU_Zone', 'DO_Borough', 'DO_Zone', 'trip_count']]\n",
    "        df_month_zone.insert(0, 'month', month_num)\n",
    "\n",
    "        print(f\"After aggregation, the aggregated number of rows of the data frame of the month {month_num} is {df_month_bor.shape[0]:,}\")\n",
    "        print(f\"The aggregation summarizes a total of {df_month_bor['trip_count'].sum():,} trips\")\n",
    "        print(\"--------------------------------------------------------------------------------------------------\")\n",
    "        print(\"--------------------------------------------------------------------------------------------------\\n\")\n",
    "\n",
    "        agg_num_rows += df_month_bor.shape[0]\n",
    "        df_agg_bor = pd.concat([df_agg_bor, df_month_bor], ignore_index=True)\n",
    "        df_agg_zone = pd.concat([df_agg_zone, df_month_zone], ignore_index=True)\n",
    "\n",
    "    print(f'The number of rows of the aggregated dataframe is {agg_num_rows:,}')\n",
    "    \n",
    "    return df_agg_bor, df_agg_zone"
   ]
  },
  {
   "cell_type": "code",
   "execution_count": 153,
   "id": "fd89d313-3c72-417f-b364-4d0d403fd49f",
   "metadata": {},
   "outputs": [],
   "source": [
    "keep_cols = [ 'day', 'hour', 'duration_min', 'trip_distance', 'passenger_count',  'PU_Borough', 'PULocationID',\n",
    "              'DO_Borough', 'DOLocationID', 'payment_type', 'fare_amount', 'extra', 'mta_tax', 'tip_amount', 'tolls_amount', \n",
    "              'improvement_surcharge', 'congestion_surcharge', 'Airport_fee', 'total_amount']"
   ]
  },
  {
   "cell_type": "code",
   "execution_count": 155,
   "id": "01ccc85a-b377-46f1-a6a1-4c66c4d21df8",
   "metadata": {},
   "outputs": [
    {
     "name": "stdout",
     "output_type": "stream",
     "text": [
      "Number of trips before aggregation 2,852,777\n",
      "After aggregation, the aggregated number of rows of the data frame of the month 1 is 71,126\n",
      "The aggregation summarizes a total of 2,852,777 trips\n",
      "--------------------------------------------------------------------------------------------------\n",
      "--------------------------------------------------------------------------------------------------\n",
      "\n",
      "Number of trips before aggregation 2,882,987\n",
      "After aggregation, the aggregated number of rows of the data frame of the month 2 is 66,607\n",
      "The aggregation summarizes a total of 2,882,987 trips\n",
      "--------------------------------------------------------------------------------------------------\n",
      "--------------------------------------------------------------------------------------------------\n",
      "\n",
      "Number of trips before aggregation 3,411,283\n",
      "After aggregation, the aggregated number of rows of the data frame of the month 3 is 77,282\n",
      "The aggregation summarizes a total of 3,411,283 trips\n",
      "--------------------------------------------------------------------------------------------------\n",
      "--------------------------------------------------------------------------------------------------\n",
      "\n",
      "Number of trips before aggregation 3,385,258\n",
      "After aggregation, the aggregated number of rows of the data frame of the month 4 is 76,145\n",
      "The aggregation summarizes a total of 3,385,258 trips\n",
      "--------------------------------------------------------------------------------------------------\n",
      "--------------------------------------------------------------------------------------------------\n",
      "\n",
      "Number of trips before aggregation 3,584,994\n",
      "After aggregation, the aggregated number of rows of the data frame of the month 5 is 79,794\n",
      "The aggregation summarizes a total of 3,584,994 trips\n",
      "--------------------------------------------------------------------------------------------------\n",
      "--------------------------------------------------------------------------------------------------\n",
      "\n",
      "Number of trips before aggregation 3,398,068\n",
      "After aggregation, the aggregated number of rows of the data frame of the month 6 is 78,018\n",
      "The aggregation summarizes a total of 3,398,068 trips\n",
      "--------------------------------------------------------------------------------------------------\n",
      "--------------------------------------------------------------------------------------------------\n",
      "\n",
      "Number of trips before aggregation 2,949,086\n",
      "After aggregation, the aggregated number of rows of the data frame of the month 7 is 80,327\n",
      "The aggregation summarizes a total of 2,949,086 trips\n",
      "--------------------------------------------------------------------------------------------------\n",
      "--------------------------------------------------------------------------------------------------\n",
      "\n",
      "Number of trips before aggregation 2,844,761\n",
      "After aggregation, the aggregated number of rows of the data frame of the month 8 is 81,783\n",
      "The aggregation summarizes a total of 2,844,761 trips\n",
      "--------------------------------------------------------------------------------------------------\n",
      "--------------------------------------------------------------------------------------------------\n",
      "\n",
      "Number of trips before aggregation 3,450,357\n",
      "After aggregation, the aggregated number of rows of the data frame of the month 9 is 77,160\n",
      "The aggregation summarizes a total of 3,450,357 trips\n",
      "--------------------------------------------------------------------------------------------------\n",
      "--------------------------------------------------------------------------------------------------\n",
      "\n",
      "Number of trips before aggregation 3,649,248\n",
      "After aggregation, the aggregated number of rows of the data frame of the month 10 is 79,465\n",
      "The aggregation summarizes a total of 3,649,248 trips\n",
      "--------------------------------------------------------------------------------------------------\n",
      "--------------------------------------------------------------------------------------------------\n",
      "\n",
      "Number of trips before aggregation 3,481,613\n",
      "After aggregation, the aggregated number of rows of the data frame of the month 11 is 74,481\n",
      "The aggregation summarizes a total of 3,481,613 trips\n",
      "--------------------------------------------------------------------------------------------------\n",
      "--------------------------------------------------------------------------------------------------\n",
      "\n",
      "Number of trips before aggregation 3,489,276\n",
      "After aggregation, the aggregated number of rows of the data frame of the month 12 is 79,185\n",
      "The aggregation summarizes a total of 3,489,276 trips\n",
      "--------------------------------------------------------------------------------------------------\n",
      "--------------------------------------------------------------------------------------------------\n",
      "\n",
      "The number of rows of the aggregated dataframe is 921,373\n"
     ]
    }
   ],
   "source": [
    "result = yellow_taxi_cleaning(df, df_zones, fee_comp_cols, keep_cols, categorical_cols)"
   ]
  },
  {
   "cell_type": "markdown",
   "id": "5fb5c8cf-9359-44fb-8487-0cd2b44c0337",
   "metadata": {},
   "source": [
    "Now, the function return a tuple containing two dataframes, let's separate these two dataframe."
   ]
  },
  {
   "cell_type": "code",
   "execution_count": 157,
   "id": "c4d01269-2a89-4c15-9711-2d1289f624c8",
   "metadata": {},
   "outputs": [],
   "source": [
    "df_agg_2024 = result[0]\n",
    "df_zone_tripCount_2024 = result[1]"
   ]
  },
  {
   "cell_type": "markdown",
   "id": "b1369dd8-244a-4cce-b12c-ca5b7598954d",
   "metadata": {},
   "source": [
    "Let's check the empty columns in these two dataframes."
   ]
  },
  {
   "cell_type": "code",
   "execution_count": 159,
   "id": "9408d56a-44e5-404d-a36b-67021615b5a4",
   "metadata": {},
   "outputs": [
    {
     "data": {
      "text/plain": [
       "Series([], dtype: int64)"
      ]
     },
     "execution_count": 159,
     "metadata": {},
     "output_type": "execute_result"
    }
   ],
   "source": [
    "df_agg_2024.isna().sum()[df_agg_2024.isna().sum() > 0]"
   ]
  },
  {
   "cell_type": "code",
   "execution_count": 161,
   "id": "97a0da0b-d6ce-4be2-b24e-2b8b7d787a98",
   "metadata": {},
   "outputs": [
    {
     "data": {
      "text/plain": [
       "PU_Borough    1327\n",
       "PU_Zone       2170\n",
       "DO_Borough    1874\n",
       "DO_Zone       1303\n",
       "dtype: int64"
      ]
     },
     "execution_count": 161,
     "metadata": {},
     "output_type": "execute_result"
    }
   ],
   "source": [
    "df_zone_tripCount_2024.isna().sum()[df_zone_tripCount_2024.isna().sum() > 0]"
   ]
  },
  {
   "cell_type": "markdown",
   "id": "8b11e2b5-6bd7-4fab-a178-e2c8e9956dca",
   "metadata": {},
   "source": [
    "Let's handle missing values for df_zone_tripCount_2024."
   ]
  },
  {
   "cell_type": "code",
   "execution_count": 163,
   "id": "22f7aa3b-c12d-4ce1-84c2-3688c8a0b26a",
   "metadata": {},
   "outputs": [],
   "source": [
    "target_cols = df_zone_tripCount_2024.drop(['month', 'trip_count'], axis=1).columns.tolist()\n",
    "df_zone_tripCount_2024[target_cols] = df_zone_tripCount_2024[target_cols].fillna('Unknown')"
   ]
  },
  {
   "cell_type": "markdown",
   "id": "9907b045-7e52-465c-8fb3-0e8d1410d9dd",
   "metadata": {},
   "source": [
    "Let's create two dataframe that would help up with plotting dashboards"
   ]
  },
  {
   "cell_type": "code",
   "execution_count": 165,
   "id": "ef167052-1a66-412f-8f1a-30645ec15865",
   "metadata": {},
   "outputs": [],
   "source": [
    "columns_to_drop = ['fare_amount_sum', 'extra_sum', 'mta_tax_sum',\n",
    "                   'tip_amount_sum', 'tolls_amount_sum', 'improvement_surcharge_sum',\n",
    "                   'congestion_surcharge_sum', 'airport_fee_sum']\n",
    "df_agg_2024_mini = df_agg_2024.drop(columns_to_drop, axis=1)"
   ]
  },
  {
   "cell_type": "markdown",
   "id": "78241753-1cfa-42e6-88ee-7f0a416ac4cd",
   "metadata": {},
   "source": [
    "Let's create a long dataframe that store the component fees in one column."
   ]
  },
  {
   "cell_type": "code",
   "execution_count": 167,
   "id": "bde7ebbf-aaf5-4229-b2a6-6718b3d0841a",
   "metadata": {},
   "outputs": [],
   "source": [
    "df_agg_2024_fee_summary = df_agg_2024.groupby([df_agg_2024['date'].dt.month, 'PU_Borough', 'DO_Borough']).agg(\n",
    "            fare_amount_total=('fare_amount_sum', 'sum'),\n",
    "            extra_total=('extra_sum', 'sum'),\n",
    "            mta_tax_total=('mta_tax_sum', 'sum'),\n",
    "            tip_amount_total=('tip_amount_sum', 'sum'),\n",
    "            tolls_amount_total=('tolls_amount_sum', 'sum'),\n",
    "            improvement_surcharge_total=('improvement_surcharge_sum', 'sum'),\n",
    "            congestion_surcharge_total=('congestion_surcharge_sum', 'sum'),\n",
    "            airport_fee_total=('airport_fee_sum', 'sum'),\n",
    "        ).reset_index()"
   ]
  },
  {
   "cell_type": "code",
   "execution_count": 169,
   "id": "f9efb723-cfb9-4182-af0f-5ca76bb58732",
   "metadata": {},
   "outputs": [
    {
     "data": {
      "text/html": [
       "<div>\n",
       "<style scoped>\n",
       "    .dataframe tbody tr th:only-of-type {\n",
       "        vertical-align: middle;\n",
       "    }\n",
       "\n",
       "    .dataframe tbody tr th {\n",
       "        vertical-align: top;\n",
       "    }\n",
       "\n",
       "    .dataframe thead th {\n",
       "        text-align: right;\n",
       "    }\n",
       "</style>\n",
       "<table border=\"1\" class=\"dataframe\">\n",
       "  <thead>\n",
       "    <tr style=\"text-align: right;\">\n",
       "      <th></th>\n",
       "      <th>month</th>\n",
       "      <th>PU_Borough</th>\n",
       "      <th>DO_Borough</th>\n",
       "      <th>fee_type</th>\n",
       "      <th>total_amount</th>\n",
       "    </tr>\n",
       "  </thead>\n",
       "  <tbody>\n",
       "    <tr>\n",
       "      <th>0</th>\n",
       "      <td>1</td>\n",
       "      <td>Bronx</td>\n",
       "      <td>Bronx</td>\n",
       "      <td>fare_amount_total</td>\n",
       "      <td>41628.34</td>\n",
       "    </tr>\n",
       "    <tr>\n",
       "      <th>1</th>\n",
       "      <td>1</td>\n",
       "      <td>Bronx</td>\n",
       "      <td>Brooklyn</td>\n",
       "      <td>fare_amount_total</td>\n",
       "      <td>30178.51</td>\n",
       "    </tr>\n",
       "    <tr>\n",
       "      <th>2</th>\n",
       "      <td>1</td>\n",
       "      <td>Bronx</td>\n",
       "      <td>EWR</td>\n",
       "      <td>fare_amount_total</td>\n",
       "      <td>171.28</td>\n",
       "    </tr>\n",
       "    <tr>\n",
       "      <th>3</th>\n",
       "      <td>1</td>\n",
       "      <td>Bronx</td>\n",
       "      <td>Manhattan</td>\n",
       "      <td>fare_amount_total</td>\n",
       "      <td>89185.00</td>\n",
       "    </tr>\n",
       "    <tr>\n",
       "      <th>4</th>\n",
       "      <td>1</td>\n",
       "      <td>Bronx</td>\n",
       "      <td>Queens</td>\n",
       "      <td>fare_amount_total</td>\n",
       "      <td>22086.35</td>\n",
       "    </tr>\n",
       "  </tbody>\n",
       "</table>\n",
       "</div>"
      ],
      "text/plain": [
       "   month PU_Borough DO_Borough           fee_type  total_amount\n",
       "0      1      Bronx      Bronx  fare_amount_total      41628.34\n",
       "1      1      Bronx   Brooklyn  fare_amount_total      30178.51\n",
       "2      1      Bronx        EWR  fare_amount_total        171.28\n",
       "3      1      Bronx  Manhattan  fare_amount_total      89185.00\n",
       "4      1      Bronx     Queens  fare_amount_total      22086.35"
      ]
     },
     "execution_count": 169,
     "metadata": {},
     "output_type": "execute_result"
    }
   ],
   "source": [
    "columns = ['fare_amount_total', 'extra_total', 'mta_tax_total', \n",
    "           'tip_amount_total', 'tolls_amount_total', 'improvement_surcharge_total',\n",
    "           'congestion_surcharge_total', 'airport_fee_total']\n",
    "\n",
    "df_agg_2024_fee_summary = df_agg_2024_fee_summary.melt(id_vars=['date', 'PU_Borough', 'DO_Borough'], \n",
    "                                                       value_vars=columns, var_name='fee_type', \n",
    "                                                       value_name='total_amount')\n",
    "\n",
    "df_agg_2024_fee_summary.rename(columns={'date': 'month'}, inplace=True)\n",
    "df_agg_2024_fee_summary.head()"
   ]
  },
  {
   "cell_type": "code",
   "execution_count": 171,
   "id": "104c7787-4949-4433-9bab-c3cd50ad7815",
   "metadata": {},
   "outputs": [],
   "source": [
    "df_agg_2024.to_csv('aggregated_nyc_yellow_taxi_2024.csv', index=False)\n",
    "df_zone_tripCount_2024.to_csv('tripCount_byZone_nyc_yellow_taxi_2024.csv', index=False)\n",
    "df_agg_2024_mini.to_csv('summary_nyc_yellow_taxi_2024.csv', index=False)\n",
    "df_agg_2024_fee_summary.to_csv('fee_summary_nyc_yellow_taxi_2024.csv', index=False)"
   ]
  }
 ],
 "metadata": {
  "kernelspec": {
   "display_name": "Python [conda env:base] *",
   "language": "python",
   "name": "conda-base-py"
  },
  "language_info": {
   "codemirror_mode": {
    "name": "ipython",
    "version": 3
   },
   "file_extension": ".py",
   "mimetype": "text/x-python",
   "name": "python",
   "nbconvert_exporter": "python",
   "pygments_lexer": "ipython3",
   "version": "3.12.7"
  }
 },
 "nbformat": 4,
 "nbformat_minor": 5
}
