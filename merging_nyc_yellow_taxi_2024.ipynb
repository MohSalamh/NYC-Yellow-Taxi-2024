{
 "cells": [
  {
   "cell_type": "markdown",
   "id": "43d4df2f-0bfa-4414-aabb-19b37bfea033",
   "metadata": {},
   "source": [
    "<div style=\"text-align: center;\">\n",
    "    <h2>Merging 2024 Monthly NYC Yellow Taxi Trip Data</h2>\n",
    "</div>"
   ]
  },
  {
   "cell_type": "markdown",
   "id": "52152100-93c2-4423-ba00-6471be12fda8",
   "metadata": {},
   "source": [
    "In this notebook, we merge the files of the monthly trip data which is stored in PARQUET format into one PARQUET file which represent year 2024."
   ]
  },
  {
   "cell_type": "code",
   "execution_count": 1,
   "id": "9855121b-da19-4f4d-8f03-9b60d1b41f8c",
   "metadata": {},
   "outputs": [],
   "source": [
    "# import required libraries \n",
    "import pandas as pd\n",
    "import os"
   ]
  },
  {
   "cell_type": "code",
   "execution_count": 3,
   "id": "97738834-2c8f-45e9-b867-da003d7296e5",
   "metadata": {},
   "outputs": [],
   "source": [
    "# create list of the path of all PARQUET files\n",
    "file_path_list = []\n",
    "folder_path = r'yellow_trip_2024'\n",
    "\n",
    "for file in os.listdir(folder_path):\n",
    "    file_path = os.path.join(folder_path, file)\n",
    "    file_path_list.append(file_path)"
   ]
  },
  {
   "cell_type": "code",
   "execution_count": 5,
   "id": "4ec79416-67a1-4669-930d-24c4e38f4df4",
   "metadata": {},
   "outputs": [],
   "source": [
    "# Create dataframe that represent the yellow taxi trips for year 2024\n",
    "df_2024 = pd.DataFrame()\n",
    "\n",
    "for path in file_path_list:\n",
    "    df = pd.read_parquet(path)\n",
    "    df_2024 = pd.concat([df_2024, df] , ignore_index=True)"
   ]
  },
  {
   "cell_type": "code",
   "execution_count": 7,
   "id": "afe9700c-50d2-4343-9076-e88200cbe06f",
   "metadata": {},
   "outputs": [],
   "source": [
    "# save the dataframe in PARQUET format\n",
    "df_2024.to_parquet('nyc_yellow_taxi_dataset_2024', engine='pyarrow')"
   ]
  }
 ],
 "metadata": {
  "kernelspec": {
   "display_name": "Python [conda env:base] *",
   "language": "python",
   "name": "conda-base-py"
  },
  "language_info": {
   "codemirror_mode": {
    "name": "ipython",
    "version": 3
   },
   "file_extension": ".py",
   "mimetype": "text/x-python",
   "name": "python",
   "nbconvert_exporter": "python",
   "pygments_lexer": "ipython3",
   "version": "3.12.7"
  }
 },
 "nbformat": 4,
 "nbformat_minor": 5
}
